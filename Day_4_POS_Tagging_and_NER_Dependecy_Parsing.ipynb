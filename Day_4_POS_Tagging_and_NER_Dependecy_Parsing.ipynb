{
  "nbformat": 4,
  "nbformat_minor": 0,
  "metadata": {
    "colab": {
      "provenance": []
    },
    "kernelspec": {
      "name": "python3",
      "display_name": "Python 3"
    },
    "language_info": {
      "name": "python"
    }
  },
  "cells": [
    {
      "cell_type": "code",
      "execution_count": null,
      "metadata": {
        "id": "hU7U_tz_Tteo"
      },
      "outputs": [],
      "source": [
        "t_text = \"To further elaborate on the geographical trends, North America has procured more than 50% of the global share in 2017 and has been leading the regional landscape of AI in the retail market.** The U.S. has a significant credit in the regional trends with over 65% of investments (including M&As, private equity, and venture capital) in artificial intelligence technology. Additionally, the region is a huge hub for startups in tandem with the presence of tech titans, such as Google, IBM, and Microsoft\""
      ]
    },
    {
      "cell_type": "code",
      "source": [
        "#import nltk\n",
        "#nltk.download('punkt')\n",
        "#from nltk.corpus import stopwords"
      ],
      "metadata": {
        "id": "FFTdLvKqT3H7"
      },
      "execution_count": null,
      "outputs": []
    },
    {
      "cell_type": "code",
      "source": [
        "import spacy\n",
        "nlp = spacy.load('en_core_web_sm')"
      ],
      "metadata": {
        "id": "naKP-76RT6pZ"
      },
      "execution_count": null,
      "outputs": []
    },
    {
      "cell_type": "code",
      "source": [
        "doc = nlp(t_text)"
      ],
      "metadata": {
        "id": "m77xM11fUCfh"
      },
      "execution_count": null,
      "outputs": []
    },
    {
      "cell_type": "code",
      "source": [
        "for token in doc:\n",
        "    print(f\"{token.text:{15}} {token.tag_:{10}} {token.pos_:{10}} {spacy.explain(token.tag_)}\")"
      ],
      "metadata": {
        "id": "6VIRFVpaUISR"
      },
      "execution_count": null,
      "outputs": []
    },
    {
      "cell_type": "code",
      "source": [
        "from spacy import displacy"
      ],
      "metadata": {
        "id": "RsAGzOHRUJ7a"
      },
      "execution_count": null,
      "outputs": []
    },
    {
      "cell_type": "code",
      "source": [
        "options = {'compact': 'True'}"
      ],
      "metadata": {
        "id": "QaHl-L6vUTjd"
      },
      "execution_count": null,
      "outputs": []
    },
    {
      "cell_type": "code",
      "source": [
        "if doc.ents:\n",
        "    for ent in doc.ents:\n",
        "        print(f\"{ent.text:{15}} {ent.label_:{10}} {spacy.explain(ent.label_)}\")"
      ],
      "metadata": {
        "id": "NgjjHXWBUUsL"
      },
      "execution_count": null,
      "outputs": []
    },
    {
      "cell_type": "code",
      "source": [
        "displacy.render(doc, style='ent', jupyter=True, options=options)"
      ],
      "metadata": {
        "id": "Jxx0lu6QUWRh"
      },
      "execution_count": null,
      "outputs": []
    },
    {
      "cell_type": "code",
      "source": [
        "#displacy.render(nlp('I prefer the morning flight'), style='dep', jupyter=True, options=options)\n",
        "#displacy.render(nlp('Vistara cancelled the morning flight'), style='dep', jupyter=True, options=options)\n",
        "displacy.render(nlp('The morning flight was delayed to the evening'), style='dep', jupyter = True, options=options)\n",
        "#displacy.render(doc, style='dep', jupyter=True, options=options)"
      ],
      "metadata": {
        "id": "GA6Ip5EKUYg6"
      },
      "execution_count": null,
      "outputs": []
    },
    {
      "cell_type": "code",
      "source": [],
      "metadata": {
        "id": "BULwkVj6YLJV"
      },
      "execution_count": null,
      "outputs": []
    }
  ]
}