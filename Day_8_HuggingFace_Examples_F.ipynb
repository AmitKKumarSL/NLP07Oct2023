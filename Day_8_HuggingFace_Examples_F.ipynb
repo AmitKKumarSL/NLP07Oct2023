{
  "nbformat": 4,
  "nbformat_minor": 0,
  "metadata": {
    "colab": {
      "provenance": []
    },
    "kernelspec": {
      "name": "python3",
      "display_name": "Python 3"
    },
    "language_info": {
      "name": "python"
    }
  },
  "cells": [
    {
      "cell_type": "code",
      "source": [
        "!pip install transformers"
      ],
      "metadata": {
        "colab": {
          "base_uri": "https://localhost:8080/"
        },
        "id": "u-moZVo2atfS",
        "outputId": "a625e566-f6ff-4c3d-982a-02533342dd56"
      },
      "execution_count": 1,
      "outputs": [
        {
          "output_type": "stream",
          "name": "stdout",
          "text": [
            "Requirement already satisfied: transformers in /usr/local/lib/python3.10/dist-packages (4.34.1)\n",
            "Requirement already satisfied: filelock in /usr/local/lib/python3.10/dist-packages (from transformers) (3.12.4)\n",
            "Requirement already satisfied: huggingface-hub<1.0,>=0.16.4 in /usr/local/lib/python3.10/dist-packages (from transformers) (0.17.3)\n",
            "Requirement already satisfied: numpy>=1.17 in /usr/local/lib/python3.10/dist-packages (from transformers) (1.23.5)\n",
            "Requirement already satisfied: packaging>=20.0 in /usr/local/lib/python3.10/dist-packages (from transformers) (23.2)\n",
            "Requirement already satisfied: pyyaml>=5.1 in /usr/local/lib/python3.10/dist-packages (from transformers) (6.0.1)\n",
            "Requirement already satisfied: regex!=2019.12.17 in /usr/local/lib/python3.10/dist-packages (from transformers) (2023.6.3)\n",
            "Requirement already satisfied: requests in /usr/local/lib/python3.10/dist-packages (from transformers) (2.31.0)\n",
            "Requirement already satisfied: tokenizers<0.15,>=0.14 in /usr/local/lib/python3.10/dist-packages (from transformers) (0.14.1)\n",
            "Requirement already satisfied: safetensors>=0.3.1 in /usr/local/lib/python3.10/dist-packages (from transformers) (0.4.0)\n",
            "Requirement already satisfied: tqdm>=4.27 in /usr/local/lib/python3.10/dist-packages (from transformers) (4.66.1)\n",
            "Requirement already satisfied: fsspec in /usr/local/lib/python3.10/dist-packages (from huggingface-hub<1.0,>=0.16.4->transformers) (2023.6.0)\n",
            "Requirement already satisfied: typing-extensions>=3.7.4.3 in /usr/local/lib/python3.10/dist-packages (from huggingface-hub<1.0,>=0.16.4->transformers) (4.5.0)\n",
            "Requirement already satisfied: charset-normalizer<4,>=2 in /usr/local/lib/python3.10/dist-packages (from requests->transformers) (3.3.1)\n",
            "Requirement already satisfied: idna<4,>=2.5 in /usr/local/lib/python3.10/dist-packages (from requests->transformers) (3.4)\n",
            "Requirement already satisfied: urllib3<3,>=1.21.1 in /usr/local/lib/python3.10/dist-packages (from requests->transformers) (2.0.7)\n",
            "Requirement already satisfied: certifi>=2017.4.17 in /usr/local/lib/python3.10/dist-packages (from requests->transformers) (2023.7.22)\n"
          ]
        }
      ]
    },
    {
      "cell_type": "markdown",
      "source": [
        "### **Question Answers**"
      ],
      "metadata": {
        "id": "WJHaQ6TVdNhi"
      }
    },
    {
      "cell_type": "code",
      "source": [
        "t_text = \"Life coaches say that in order to truly create something valuable and inspiring, you need to concentrate on one thing at a time. It requires simplicity, an art of reducing something to its essence, so that you couldn't take anything away without making it substantially less. In other words, simplicity is only reached, if you have taken everything away that is not essential. Simplicity creates a more simple life; it also effectively reduces stress. It is about stepping back and gently focusing. And as Seneca says, to be everywhere is to be nowhere.\""
      ],
      "metadata": {
        "id": "-FkhffNfbAiG"
      },
      "execution_count": 2,
      "outputs": []
    },
    {
      "cell_type": "code",
      "execution_count": 3,
      "metadata": {
        "id": "2gjFXHDAaqB0"
      },
      "outputs": [],
      "source": [
        "from transformers import pipeline\n",
        "\n",
        "model_name = \"deepset/roberta-base-squad2\""
      ]
    },
    {
      "cell_type": "code",
      "source": [
        "nlp = pipeline('question-answering', model=model_name, tokenizer=model_name)"
      ],
      "metadata": {
        "id": "Q8PYgw7WbGA_"
      },
      "execution_count": 4,
      "outputs": []
    },
    {
      "cell_type": "code",
      "source": [
        "question_input = {\n",
        "    'question': \"What is Simplicity?\",#\"How can I create a simple life?\",#\"What do life coaches say?\",#\"What does Zen master say?\",#'How can you reach simplicity?',\n",
        "    'context': t_text\n",
        "}"
      ],
      "metadata": {
        "id": "HuKJYLvdbKSZ"
      },
      "execution_count": 17,
      "outputs": []
    },
    {
      "cell_type": "code",
      "source": [
        "res = nlp(question_input)"
      ],
      "metadata": {
        "id": "RW21DpqfbRgb"
      },
      "execution_count": 18,
      "outputs": []
    },
    {
      "cell_type": "code",
      "source": [
        "res.get('answer')"
      ],
      "metadata": {
        "colab": {
          "base_uri": "https://localhost:8080/",
          "height": 36
        },
        "id": "XoVG-KsFbU_U",
        "outputId": "d56c88b0-1e65-4ab2-a341-e084e4a52138"
      },
      "execution_count": 19,
      "outputs": [
        {
          "output_type": "execute_result",
          "data": {
            "text/plain": [
              "'creates a more simple life'"
            ],
            "application/vnd.google.colaboratory.intrinsic+json": {
              "type": "string"
            }
          },
          "metadata": {},
          "execution_count": 19
        }
      ]
    },
    {
      "cell_type": "markdown",
      "source": [
        "### **Text Generation**"
      ],
      "metadata": {
        "id": "ED9OhU30dSbq"
      }
    },
    {
      "cell_type": "code",
      "source": [
        "generator = pipeline('text-generation', model='EleutherAI/pythia-160M')"
      ],
      "metadata": {
        "id": "goyxoHHyceYF"
      },
      "execution_count": 20,
      "outputs": []
    },
    {
      "cell_type": "code",
      "source": [
        "res = generator(\"Natural Language Processing is\", do_sample=True, min_length=20, max_length=100)"
      ],
      "metadata": {
        "colab": {
          "base_uri": "https://localhost:8080/"
        },
        "id": "bM2LNGnTd7xJ",
        "outputId": "2ad2be70-3a19-43de-af1b-d4c749fd2739"
      },
      "execution_count": 23,
      "outputs": [
        {
          "output_type": "stream",
          "name": "stderr",
          "text": [
            "Setting `pad_token_id` to `eos_token_id`:0 for open-end generation.\n"
          ]
        }
      ]
    },
    {
      "cell_type": "code",
      "source": [
        "print(res[0].get('generated_text'))"
      ],
      "metadata": {
        "colab": {
          "base_uri": "https://localhost:8080/"
        },
        "id": "aopERv3md_EV",
        "outputId": "7e959f85-952b-420e-ca4a-e6f629ffba80"
      },
      "execution_count": 24,
      "outputs": [
        {
          "output_type": "stream",
          "name": "stdout",
          "text": [
            "Natural Language Processing is a set of\n",
            "\n",
            "Computer Aided Techniques and Methods to Improve the\n",
            "\n",
            "Communication with Your Computer,\n",
            "\n",
            "Communication to\n",
            "\n",
            "You Can Use the C\n",
            "\n",
            "Communication to Your\n",
            "\n",
            "Other Things You Want to Talk About,\n",
            "\n",
            "Other Things You\n",
            "\n",
            "How to Add a C\n",
            "\n",
            "The C++ Compiler is a\n",
            "\n",
            "C++ Compilation Engine; The C++ Compiler\n",
            "\n",
            "C++ Compilation Engine; This Compilation\n"
          ]
        }
      ]
    },
    {
      "cell_type": "code",
      "source": [],
      "metadata": {
        "id": "PI9rfnU6eL3w"
      },
      "execution_count": null,
      "outputs": []
    }
  ]
}