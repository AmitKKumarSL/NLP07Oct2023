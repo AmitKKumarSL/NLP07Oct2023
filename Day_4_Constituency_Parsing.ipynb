{
  "cells": [
    {
      "cell_type": "code",
      "execution_count": null,
      "id": "9017671e-cbd4-44fd-a445-3ecb2f560336",
      "metadata": {
        "id": "9017671e-cbd4-44fd-a445-3ecb2f560336"
      },
      "outputs": [],
      "source": [
        "!pip install svgling"
      ]
    },
    {
      "cell_type": "code",
      "execution_count": null,
      "id": "76fe09eb-33b0-44da-bf2d-9d9ee17c2b95",
      "metadata": {
        "id": "76fe09eb-33b0-44da-bf2d-9d9ee17c2b95"
      },
      "outputs": [],
      "source": [
        "import nltk"
      ]
    },
    {
      "cell_type": "code",
      "execution_count": null,
      "id": "31b109a5-37f9-414c-8d62-876c3b52b1c5",
      "metadata": {
        "id": "31b109a5-37f9-414c-8d62-876c3b52b1c5"
      },
      "outputs": [],
      "source": [
        "nltk.download('punkt')\n",
        "nltk.download('averaged_perceptron_tagger')"
      ]
    },
    {
      "cell_type": "code",
      "source": [
        "nltk.download('all')"
      ],
      "metadata": {
        "id": "Vm9zHmlp7Ao5"
      },
      "id": "Vm9zHmlp7Ao5",
      "execution_count": null,
      "outputs": []
    },
    {
      "cell_type": "code",
      "execution_count": null,
      "id": "783614c5-907b-4e34-a98c-e73c04b49064",
      "metadata": {
        "id": "783614c5-907b-4e34-a98c-e73c04b49064"
      },
      "outputs": [],
      "source": [
        "sent = \"The little mouse ate the fresh cheese in a dark room\""
      ]
    },
    {
      "cell_type": "code",
      "execution_count": null,
      "id": "b1072a20-4039-4b6e-b756-d507dea75de5",
      "metadata": {
        "id": "b1072a20-4039-4b6e-b756-d507dea75de5"
      },
      "outputs": [],
      "source": [
        "from nltk import word_tokenize"
      ]
    },
    {
      "cell_type": "code",
      "execution_count": null,
      "id": "4886ee8a-0a9a-4ef3-b3b2-0dfc109ab18f",
      "metadata": {
        "id": "4886ee8a-0a9a-4ef3-b3b2-0dfc109ab18f"
      },
      "outputs": [],
      "source": [
        "sent_tokens = nltk.pos_tag(word_tokenize(sent))"
      ]
    },
    {
      "cell_type": "code",
      "execution_count": null,
      "id": "98b53794-12f0-4d6b-b5a7-ab622c1b7f38",
      "metadata": {
        "id": "98b53794-12f0-4d6b-b5a7-ab622c1b7f38"
      },
      "outputs": [],
      "source": [
        "sent_tokens"
      ]
    },
    {
      "cell_type": "code",
      "execution_count": null,
      "id": "f3e11a47-1723-47bd-b356-afa84fc76c9d",
      "metadata": {
        "id": "f3e11a47-1723-47bd-b356-afa84fc76c9d"
      },
      "outputs": [],
      "source": [
        "ne_c = nltk.ne_chunk(sent_tokens)"
      ]
    },
    {
      "cell_type": "code",
      "source": [
        "ne_c"
      ],
      "metadata": {
        "id": "LP0VgOnA8wrC"
      },
      "id": "LP0VgOnA8wrC",
      "execution_count": null,
      "outputs": []
    },
    {
      "cell_type": "code",
      "execution_count": null,
      "id": "bde6d992-579a-4943-90e5-2db51ab2fe06",
      "metadata": {
        "id": "bde6d992-579a-4943-90e5-2db51ab2fe06"
      },
      "outputs": [],
      "source": [
        "grammar_np = r\"NP : {<DT>?<JJ>*<NN>}\""
      ]
    },
    {
      "cell_type": "code",
      "execution_count": null,
      "id": "3bb57e6e-c017-451f-821d-c86d83ccf1d0",
      "metadata": {
        "id": "3bb57e6e-c017-451f-821d-c86d83ccf1d0"
      },
      "outputs": [],
      "source": [
        "chunk_parser = nltk.RegexpParser(grammar_np)"
      ]
    },
    {
      "cell_type": "code",
      "execution_count": null,
      "id": "0f34453f-e0e9-4159-b1f2-bd3175edcdd8",
      "metadata": {
        "id": "0f34453f-e0e9-4159-b1f2-bd3175edcdd8"
      },
      "outputs": [],
      "source": [
        "chunk_result = chunk_parser.parse(sent_tokens)\n",
        "chunk_result"
      ]
    },
    {
      "cell_type": "code",
      "execution_count": null,
      "id": "84d939cc-0f0b-4c80-8fd5-6b689d23e830",
      "metadata": {
        "id": "84d939cc-0f0b-4c80-8fd5-6b689d23e830"
      },
      "outputs": [],
      "source": []
    }
  ],
  "metadata": {
    "kernelspec": {
      "display_name": "Python 3 [3.10]",
      "language": "python",
      "name": "python3"
    },
    "language_info": {
      "codemirror_mode": {
        "name": "ipython",
        "version": 3
      },
      "file_extension": ".py",
      "mimetype": "text/x-python",
      "name": "python",
      "nbconvert_exporter": "python",
      "pygments_lexer": "ipython3",
      "version": "3.10.2"
    },
    "colab": {
      "provenance": []
    }
  },
  "nbformat": 4,
  "nbformat_minor": 5
}