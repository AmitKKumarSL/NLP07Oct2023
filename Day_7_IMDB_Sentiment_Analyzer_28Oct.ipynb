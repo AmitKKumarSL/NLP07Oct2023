{
  "cells": [
    {
      "cell_type": "markdown",
      "id": "0c874c17-9e6b-4ee0-85da-6f3f70873f47",
      "metadata": {
        "id": "0c874c17-9e6b-4ee0-85da-6f3f70873f47"
      },
      "source": [
        "# Sentiment Analyzer"
      ]
    },
    {
      "cell_type": "code",
      "execution_count": null,
      "id": "129373f4-28d8-4a4c-bdd0-23ebaca23ee4",
      "metadata": {
        "id": "129373f4-28d8-4a4c-bdd0-23ebaca23ee4"
      },
      "outputs": [],
      "source": [
        "import pandas as pd\n",
        "import numpy as np"
      ]
    },
    {
      "cell_type": "code",
      "execution_count": null,
      "id": "7c3bebda-d8d1-4e50-9035-c7660d707641",
      "metadata": {
        "id": "7c3bebda-d8d1-4e50-9035-c7660d707641"
      },
      "outputs": [],
      "source": [
        "import tensorflow as tf\n",
        "\n",
        "from tensorflow.keras.preprocessing.text import Tokenizer"
      ]
    },
    {
      "cell_type": "code",
      "execution_count": null,
      "id": "684c5651-f988-4c32-b25c-803f9aa3ce6e",
      "metadata": {
        "id": "684c5651-f988-4c32-b25c-803f9aa3ce6e"
      },
      "outputs": [],
      "source": [
        "import tensorflow_datasets as tfds"
      ]
    },
    {
      "cell_type": "code",
      "execution_count": null,
      "id": "4c792f55-b89c-4eee-9595-3227c2be1bfd",
      "metadata": {
        "colab": {
          "base_uri": "https://localhost:8080/",
          "height": 137,
          "referenced_widgets": [
            "158bcf797d4041bb9aa63398832a1e41",
            "7b67aa31022b45d984d88801e1d5be65",
            "1dd1f163402d4166a95b2b990d8e3edc",
            "d366fda2942940058fff590f425bc626",
            "15aec332e6aa4df387397e78ad38912e",
            "9fe8518bca054d8ab05988b316f8d290",
            "a83cdf83fa29486b95fb4c18d9e870a5",
            "6cae764c666c4c74b7dd97492fdbd336",
            "547e93f4d9714bfc95a422b46fc33597",
            "c60a5bebd93444c88b1eaff68a92cdf2",
            "58188d750f5d4442b1a8fb35a6af22dc",
            "5412832da53a4d8fa9e2e2a5a969f076",
            "a1e3cf5995ca4236985f5caf8e38278a",
            "8bacfdf1aa264d3f90e0458ff39502dc",
            "52e8c19ec7094ceeaed30066dac7c277",
            "5da4fa3c72da457d8fcaa6a9c9932660",
            "21970667da134ab4a0fd8f03b7ac5bd2",
            "281644dcdb8f4bb9a60c62059e5f4743",
            "132682315eaa4f49a316cfb123fa9b6f",
            "067d50ab588d4fb39252111374fc886a",
            "42a60263ff854c4c9828ed7566cc89d7",
            "9b7336caf8d4430d8741e3a04fcdf401",
            "7706c3a4eafa48a989339e848a165448",
            "2909ff56eb7e4dcf803dd72e29eee9f2",
            "a1f5517b3e1a4ace84b7e91f5813f08c",
            "de11de3fb22944d5a2263b25e72f0c69",
            "b497918c5ea3414da4883d5db053fc3c",
            "452be805f82e488f91ebece9e3e8556f",
            "3f2055a309b94f7b921d2908a12d152e",
            "611622e1342949e28667051550313182",
            "a36d7084881c4decadd0d64e8e2d48fb",
            "da62e43ea40e45038ad4cacaf9b4743f",
            "6c95178c0ed14e1c888ba6c8837d834f",
            "7491539df2f54c42898b528d61af2868",
            "bfef71d8bd634db7a391214a8156e7f6",
            "92cea93c6fb74f779e8b2037b2f5d2b0",
            "3164f29a80924a809199ca9c4de9304e",
            "802048fe673a4d86913d90e2211811ec",
            "f7410cf0120f4dd0ac5cc8f1a5f28c15",
            "325de3cadb54415582052b24791a3f06",
            "c94add7826ce4defb6806ee46ac41dad",
            "a99bc966afdc4e83b591ceffafc01526",
            "b56bffaad01747b7a60aab7aabd52cf6",
            "72f743e3939f484da7050dd036e81257",
            "624d16d98d374201abd58bccf2251917",
            "f2da197f1635422eb8b9bc4dcae72f84",
            "8219f17c757e4d9c8cc9e245cf349958",
            "31510be85f5844129769e1594933f24c",
            "ba671cb3a6264672aa613ddc5a332aaa",
            "21e33e61f5e041c0ac65ca4cf3e30105",
            "7d061b2e020d4929bc1c532b79669c80",
            "8eb88759fe8f4005a590f9ac0796a82d",
            "1e3fd6cff1a44b96b1ea6ee16dca42f4",
            "a72ab62666844f1e8230670bcab9d832",
            "394b3b3f18974c1f93c83dd829cad260",
            "5b3afd9e3d9e467d924a41db7c98b3b5",
            "3117117af6a84e50ad28e05889df400e",
            "667aa2b2191d47aea8d9b7730fd92ef4",
            "293fc5faa18c4472a4f450f1b8cb5797",
            "93c6d4be21154995bb7264276aa88bf4",
            "190a51dda855445a8901868463eeeff6",
            "f5da974bbbe54becaa8c9a7b4e86a08b",
            "d90eb2ad470c4dfaa43924c4da0b8330",
            "9a2c112ae33b4626a0f675fb6cf2213d",
            "20e3fcb80407461487344982bf56db96",
            "da7112e0b81842579740817ed5913d0e",
            "293977f111c048c1ba4d2f5f28a4a3ae",
            "6f4ebd41753f4316892efe587fd35298",
            "bee9636463fb49cd84b90604c75462b7",
            "6c1d952852a446e1baa7ced1845a7c09",
            "41bc774557914ef2b79919ec294e8050",
            "3c5de6fd21b040be8a074fbcf9486eb2",
            "bd5fc20629ab4883a1863ae3a4ddd1a3",
            "133bad0717484ab086e1da025f42e2d6",
            "9da734d7c9ac492bb1198738e0513738",
            "77711ca3c6a84671b5842881c55e6606",
            "ad472cdea6fd478abbb3174c981cefb4",
            "613aea76c2c0451093d5ee2875dbfeb0",
            "0d10f18f46ab483094c24f3562b6baa6",
            "1345bc96c5504a96acbeb8017f25b108",
            "94888dc678d74977b139a753ec13d42c",
            "defe8beb4ed34f7498e0c1d3649a3483",
            "58314dcd56cf4a318113e5436e7831c1",
            "2719761abc2743cb8065f21777ad9fc9",
            "3ba10d719a4649d5bbde85bd4fd8dc9d",
            "04a11fc063dd47b8bf5f6a8050cb8ae2",
            "304da3b271b446c9b59950035ea9e0e6",
            "f21c74db86104727ab5fb6a410da4e2f",
            "1f0f42c91b9645b2b7aa9f6f92d32df9",
            "8ef311455520421cb7bf88c9699b1ffd",
            "a7e0ab52978848bfba4e68c9de882b61",
            "5cea3728f9aa4270b2d857a87068e778",
            "50c5a41710b24910842f7c41a7219b78",
            "49753888221f46c798164c5a5b04d64d",
            "a72a5ae4ba78446897d445538c8565c4",
            "b2e8b0b3be2240dfb0d17eeb8bb04c1d",
            "bb96256a8d6e4ca389e1edbfb6b9f315",
            "db9a8232c58f493c8cd99cfce7b13d07",
            "8fef7dba148c44cdb353a9e29b002e96"
          ]
        },
        "id": "4c792f55-b89c-4eee-9595-3227c2be1bfd",
        "outputId": "f503428f-8447-4bd7-de2b-4bae7d8ff8e6"
      },
      "outputs": [
        {
          "output_type": "stream",
          "name": "stdout",
          "text": [
            "Downloading and preparing dataset 80.23 MiB (download: 80.23 MiB, generated: Unknown size, total: 80.23 MiB) to /root/tensorflow_datasets/imdb_reviews/plain_text/1.0.0...\n"
          ]
        },
        {
          "output_type": "display_data",
          "data": {
            "text/plain": [
              "Dl Completed...: 0 url [00:00, ? url/s]"
            ],
            "application/vnd.jupyter.widget-view+json": {
              "version_major": 2,
              "version_minor": 0,
              "model_id": "158bcf797d4041bb9aa63398832a1e41"
            }
          },
          "metadata": {}
        },
        {
          "output_type": "display_data",
          "data": {
            "text/plain": [
              "Dl Size...: 0 MiB [00:00, ? MiB/s]"
            ],
            "application/vnd.jupyter.widget-view+json": {
              "version_major": 2,
              "version_minor": 0,
              "model_id": "5412832da53a4d8fa9e2e2a5a969f076"
            }
          },
          "metadata": {}
        },
        {
          "output_type": "display_data",
          "data": {
            "text/plain": [
              "Generating splits...:   0%|          | 0/3 [00:00<?, ? splits/s]"
            ],
            "application/vnd.jupyter.widget-view+json": {
              "version_major": 2,
              "version_minor": 0,
              "model_id": "7706c3a4eafa48a989339e848a165448"
            }
          },
          "metadata": {}
        },
        {
          "output_type": "display_data",
          "data": {
            "text/plain": [
              "Generating train examples...:   0%|          | 0/25000 [00:00<?, ? examples/s]"
            ],
            "application/vnd.jupyter.widget-view+json": {
              "version_major": 2,
              "version_minor": 0,
              "model_id": "7491539df2f54c42898b528d61af2868"
            }
          },
          "metadata": {}
        },
        {
          "output_type": "display_data",
          "data": {
            "text/plain": [
              "Shuffling /root/tensorflow_datasets/imdb_reviews/plain_text/1.0.0.incompleteQ429A6/imdb_reviews-train.tfrecord…"
            ],
            "application/vnd.jupyter.widget-view+json": {
              "version_major": 2,
              "version_minor": 0,
              "model_id": "624d16d98d374201abd58bccf2251917"
            }
          },
          "metadata": {}
        },
        {
          "output_type": "display_data",
          "data": {
            "text/plain": [
              "Generating test examples...:   0%|          | 0/25000 [00:00<?, ? examples/s]"
            ],
            "application/vnd.jupyter.widget-view+json": {
              "version_major": 2,
              "version_minor": 0,
              "model_id": "5b3afd9e3d9e467d924a41db7c98b3b5"
            }
          },
          "metadata": {}
        },
        {
          "output_type": "display_data",
          "data": {
            "text/plain": [
              "Shuffling /root/tensorflow_datasets/imdb_reviews/plain_text/1.0.0.incompleteQ429A6/imdb_reviews-test.tfrecord*…"
            ],
            "application/vnd.jupyter.widget-view+json": {
              "version_major": 2,
              "version_minor": 0,
              "model_id": "293977f111c048c1ba4d2f5f28a4a3ae"
            }
          },
          "metadata": {}
        },
        {
          "output_type": "display_data",
          "data": {
            "text/plain": [
              "Generating unsupervised examples...:   0%|          | 0/50000 [00:00<?, ? examples/s]"
            ],
            "application/vnd.jupyter.widget-view+json": {
              "version_major": 2,
              "version_minor": 0,
              "model_id": "613aea76c2c0451093d5ee2875dbfeb0"
            }
          },
          "metadata": {}
        },
        {
          "output_type": "display_data",
          "data": {
            "text/plain": [
              "Shuffling /root/tensorflow_datasets/imdb_reviews/plain_text/1.0.0.incompleteQ429A6/imdb_reviews-unsupervised.t…"
            ],
            "application/vnd.jupyter.widget-view+json": {
              "version_major": 2,
              "version_minor": 0,
              "model_id": "1f0f42c91b9645b2b7aa9f6f92d32df9"
            }
          },
          "metadata": {}
        },
        {
          "output_type": "stream",
          "name": "stdout",
          "text": [
            "Dataset imdb_reviews downloaded and prepared to /root/tensorflow_datasets/imdb_reviews/plain_text/1.0.0. Subsequent calls will reuse this data.\n"
          ]
        }
      ],
      "source": [
        "imdb, info = tfds.load('imdb_reviews',\n",
        "                       with_info=True,\n",
        "                       as_supervised=True)"
      ]
    },
    {
      "cell_type": "code",
      "execution_count": null,
      "id": "9e02b233-d1ca-4328-b403-ee98106f89c9",
      "metadata": {
        "id": "9e02b233-d1ca-4328-b403-ee98106f89c9"
      },
      "outputs": [],
      "source": [
        "train, test = imdb['train'],imdb['test']"
      ]
    },
    {
      "cell_type": "code",
      "source": [
        "#info"
      ],
      "metadata": {
        "id": "5toT-5ZBNj6R"
      },
      "id": "5toT-5ZBNj6R",
      "execution_count": null,
      "outputs": []
    },
    {
      "cell_type": "code",
      "execution_count": null,
      "id": "4abfe281-78e6-4899-8905-2fe15e55d838",
      "metadata": {
        "colab": {
          "base_uri": "https://localhost:8080/"
        },
        "id": "4abfe281-78e6-4899-8905-2fe15e55d838",
        "outputId": "89bddb67-fa38-4916-a0e5-8bfa794662b6"
      },
      "outputs": [
        {
          "output_type": "execute_result",
          "data": {
            "text/plain": [
              "tensorflow.python.data.ops.prefetch_op._PrefetchDataset"
            ]
          },
          "metadata": {},
          "execution_count": 7
        }
      ],
      "source": [
        "type(train)"
      ]
    },
    {
      "cell_type": "code",
      "execution_count": null,
      "id": "f76b551f-aaf9-4d54-a950-4ba7bf278865",
      "metadata": {
        "id": "f76b551f-aaf9-4d54-a950-4ba7bf278865"
      },
      "outputs": [],
      "source": [
        "train_sent = []\n",
        "test_sent = []\n",
        "y_train = []\n",
        "y_test = []"
      ]
    },
    {
      "cell_type": "code",
      "execution_count": null,
      "id": "e9296963-e0c1-4be2-bf4c-9543a0515d66",
      "metadata": {
        "id": "e9296963-e0c1-4be2-bf4c-9543a0515d66"
      },
      "outputs": [],
      "source": [
        "for sent, labels in train:\n",
        "    train_sent.append(sent.numpy().decode('utf8'))\n",
        "    y_train.append(labels)"
      ]
    },
    {
      "cell_type": "code",
      "execution_count": null,
      "id": "65373df2-69dc-4ad8-9784-ef4bca3414d0",
      "metadata": {
        "id": "65373df2-69dc-4ad8-9784-ef4bca3414d0"
      },
      "outputs": [],
      "source": [
        "for sent, labels in test:\n",
        "    test_sent.append(sent.numpy().decode('utf8'))\n",
        "    y_test.append(labels)"
      ]
    },
    {
      "cell_type": "code",
      "execution_count": null,
      "id": "2e10bb0b-6637-4f3c-a506-c39c2bf9bc7f",
      "metadata": {
        "colab": {
          "base_uri": "https://localhost:8080/"
        },
        "id": "2e10bb0b-6637-4f3c-a506-c39c2bf9bc7f",
        "outputId": "d4a16fa6-07c6-4811-c52d-9170814d812b"
      },
      "outputs": [
        {
          "output_type": "execute_result",
          "data": {
            "text/plain": [
              "(25000, 25000, 25000, 25000)"
            ]
          },
          "metadata": {},
          "execution_count": 11
        }
      ],
      "source": [
        "len(train_sent), len(test_sent), len(y_train), len(y_test)"
      ]
    },
    {
      "cell_type": "code",
      "execution_count": null,
      "id": "f6b564e1-5461-4cfa-9541-d322bf7372a9",
      "metadata": {
        "id": "f6b564e1-5461-4cfa-9541-d322bf7372a9"
      },
      "outputs": [],
      "source": [
        "y_train = np.array(y_train)\n",
        "y_test = np.array(y_test)"
      ]
    },
    {
      "cell_type": "code",
      "execution_count": null,
      "id": "a0c1e351-2bab-4d8f-aff1-50b886c53d73",
      "metadata": {
        "colab": {
          "base_uri": "https://localhost:8080/"
        },
        "id": "a0c1e351-2bab-4d8f-aff1-50b886c53d73",
        "outputId": "1a053767-460e-4801-fb36-a4e2fc03eba9"
      },
      "outputs": [
        {
          "output_type": "execute_result",
          "data": {
            "text/plain": [
              "[\"This was an absolutely terrible movie. Don't be lured in by Christopher Walken or Michael Ironside. Both are great actors, but this must simply be their worst role in history. Even their great acting could not redeem this movie's ridiculous storyline. This movie is an early nineties US propaganda piece. The most pathetic scenes were those when the Columbian rebels were making their cases for revolutions. Maria Conchita Alonso appeared phony, and her pseudo-love affair with Walken was nothing but a pathetic emotional plug in a movie that was devoid of any real meaning. I am disappointed that there are movies like this, ruining actor's like Christopher Walken's good name. I could barely sit through it.\",\n",
              " 'I have been known to fall asleep during films, but this is usually due to a combination of things including, really tired, being warm and comfortable on the sette and having just eaten a lot. However on this occasion I fell asleep because the film was rubbish. The plot development was constant. Constantly slow and boring. Things seemed to happen, but with no explanation of what was causing them or why. I admit, I may have missed part of the film, but i watched the majority of it and everything just seemed to happen of its own accord without any real concern for anything else. I cant recommend this film at all.']"
            ]
          },
          "metadata": {},
          "execution_count": 13
        }
      ],
      "source": [
        "train_sent[0:2]"
      ]
    },
    {
      "cell_type": "code",
      "execution_count": null,
      "id": "59e73ab8-da64-4197-abae-bda9f4285635",
      "metadata": {
        "colab": {
          "base_uri": "https://localhost:8080/"
        },
        "id": "59e73ab8-da64-4197-abae-bda9f4285635",
        "outputId": "4536b5d4-0926-4c02-9fd0-a5aaf54fa3af"
      },
      "outputs": [
        {
          "output_type": "execute_result",
          "data": {
            "text/plain": [
              "array([0, 0])"
            ]
          },
          "metadata": {},
          "execution_count": 14
        }
      ],
      "source": [
        "y_train[0:2]"
      ]
    },
    {
      "cell_type": "code",
      "source": [
        "np.unique(y_train), np.unique(y_test)"
      ],
      "metadata": {
        "colab": {
          "base_uri": "https://localhost:8080/"
        },
        "id": "KGIliMGSQ0KB",
        "outputId": "356bb28c-41ac-44b5-b2fb-8bb0d0ecab99"
      },
      "id": "KGIliMGSQ0KB",
      "execution_count": null,
      "outputs": [
        {
          "output_type": "execute_result",
          "data": {
            "text/plain": [
              "(array([0, 1]), array([0, 1]))"
            ]
          },
          "metadata": {},
          "execution_count": 15
        }
      ]
    },
    {
      "cell_type": "code",
      "execution_count": null,
      "id": "dIQp1iVkVA0w",
      "metadata": {
        "id": "dIQp1iVkVA0w"
      },
      "outputs": [],
      "source": [
        "np.random.seed(12345)\n",
        "tf.random.set_seed(12345)"
      ]
    },
    {
      "cell_type": "code",
      "execution_count": null,
      "id": "674b5304-da20-4540-a532-7f44975c1b10",
      "metadata": {
        "id": "674b5304-da20-4540-a532-7f44975c1b10"
      },
      "outputs": [],
      "source": [
        "# to encode text to int\n",
        "from tensorflow.keras.preprocessing.text import Tokenizer\n",
        "from tensorflow.keras.preprocessing.sequence import pad_sequences"
      ]
    },
    {
      "cell_type": "code",
      "execution_count": null,
      "id": "4f15a4c2-13b7-45fc-83af-c00b4cb92655",
      "metadata": {
        "id": "4f15a4c2-13b7-45fc-83af-c00b4cb92655"
      },
      "outputs": [],
      "source": [
        "VOCAB = 1000 # Limit the vocabulary to 1000 words\n",
        "EMBED_DIM = 32 # n-dimension for embedding layer\n",
        "MAXLEN = 100 # Maximum length of Sentence"
      ]
    },
    {
      "cell_type": "code",
      "execution_count": null,
      "id": "f7aa3482-bbd2-4b11-8895-a923ea8479a0",
      "metadata": {
        "id": "f7aa3482-bbd2-4b11-8895-a923ea8479a0"
      },
      "outputs": [],
      "source": [
        "token = Tokenizer(lower=True,\n",
        "                  num_words=VOCAB,\n",
        "                  oov_token=\"<OOV>\")"
      ]
    },
    {
      "cell_type": "code",
      "execution_count": null,
      "id": "59058441-29dd-4b68-b3f0-25afe0357d76",
      "metadata": {
        "id": "59058441-29dd-4b68-b3f0-25afe0357d76"
      },
      "outputs": [],
      "source": [
        "token.fit_on_texts(train_sent)"
      ]
    },
    {
      "cell_type": "code",
      "execution_count": null,
      "id": "4daf3052-56e4-4dd0-b330-ef04e0b7c92c",
      "metadata": {
        "id": "4daf3052-56e4-4dd0-b330-ef04e0b7c92c"
      },
      "outputs": [],
      "source": [
        "train_sent_s = token.texts_to_sequences(train_sent)\n",
        "test_sent_s = token.texts_to_sequences(test_sent)"
      ]
    },
    {
      "cell_type": "code",
      "execution_count": null,
      "id": "d77ae73e-2805-4d6a-90d0-13d0ef1138fa",
      "metadata": {
        "id": "d77ae73e-2805-4d6a-90d0-13d0ef1138fa"
      },
      "outputs": [],
      "source": [
        "train_sent_s = pad_sequences(train_sent_s,\n",
        "                             maxlen=MAXLEN,\n",
        "                             padding='post',\n",
        "                             truncating='post')"
      ]
    },
    {
      "cell_type": "code",
      "execution_count": null,
      "id": "e7382421-b006-4fd3-8255-4f0447a7d55f",
      "metadata": {
        "id": "e7382421-b006-4fd3-8255-4f0447a7d55f"
      },
      "outputs": [],
      "source": [
        "test_sent_s = pad_sequences(test_sent_s,\n",
        "                            maxlen=MAXLEN,\n",
        "                            padding='post',\n",
        "                            truncating='post')"
      ]
    },
    {
      "cell_type": "code",
      "execution_count": null,
      "id": "Ro87Hs9rZuYD",
      "metadata": {
        "cellView": "form",
        "colab": {
          "base_uri": "https://localhost:8080/"
        },
        "id": "Ro87Hs9rZuYD",
        "outputId": "06632316-adbb-42a5-9e77-e4d3eba52c90"
      },
      "outputs": [
        {
          "output_type": "execute_result",
          "data": {
            "text/plain": [
              "(25000, 25000, 25000, 25000)"
            ]
          },
          "metadata": {},
          "execution_count": 24
        }
      ],
      "source": [
        "len(train_sent), len(test_sent), len(y_train), len(y_test)"
      ]
    },
    {
      "cell_type": "markdown",
      "id": "YL_WMQ1HjYDT",
      "metadata": {
        "id": "YL_WMQ1HjYDT"
      },
      "source": [
        "# Embeddings"
      ]
    },
    {
      "cell_type": "code",
      "execution_count": null,
      "id": "APpRHDoGjPn5",
      "metadata": {
        "id": "APpRHDoGjPn5"
      },
      "outputs": [],
      "source": [
        "from tensorflow.keras.models import Sequential\n",
        "from tensorflow.keras.layers import Embedding, Dense, GlobalAveragePooling1D"
      ]
    },
    {
      "cell_type": "code",
      "execution_count": null,
      "id": "DGR73onAjaMf",
      "metadata": {
        "id": "DGR73onAjaMf"
      },
      "outputs": [],
      "source": [
        "emb_model = Sequential()"
      ]
    },
    {
      "cell_type": "code",
      "execution_count": null,
      "id": "EP8NOWYdjf3O",
      "metadata": {
        "id": "EP8NOWYdjf3O"
      },
      "outputs": [],
      "source": [
        "emb_model.add(Embedding(VOCAB,\n",
        "                        EMBED_DIM,\n",
        "                        input_length = MAXLEN)) # Embedding layer"
      ]
    },
    {
      "cell_type": "code",
      "execution_count": null,
      "id": "_CfdcssmjhRW",
      "metadata": {
        "id": "_CfdcssmjhRW"
      },
      "outputs": [],
      "source": [
        "emb_model.add(GlobalAveragePooling1D()) # Average Pooling layer"
      ]
    },
    {
      "cell_type": "code",
      "execution_count": null,
      "id": "yBCSmd3SjkfA",
      "metadata": {
        "id": "yBCSmd3SjkfA"
      },
      "outputs": [],
      "source": [
        "emb_model.add(Dense(128, activation = 'relu')) # Dense layer - intermediate FC layer"
      ]
    },
    {
      "cell_type": "code",
      "execution_count": null,
      "id": "Q7UdUkUBjpF_",
      "metadata": {
        "id": "Q7UdUkUBjpF_"
      },
      "outputs": [],
      "source": [
        "emb_model.add(Dense(1, activation='sigmoid')) # Output layer"
      ]
    },
    {
      "cell_type": "code",
      "source": [
        "emb_model.summary()"
      ],
      "metadata": {
        "colab": {
          "base_uri": "https://localhost:8080/"
        },
        "id": "LOPdWnPsUIvP",
        "outputId": "eb0e8c3a-5354-4ec5-ee8b-ad9ff041cf47"
      },
      "id": "LOPdWnPsUIvP",
      "execution_count": null,
      "outputs": [
        {
          "output_type": "stream",
          "name": "stdout",
          "text": [
            "Model: \"sequential\"\n",
            "_________________________________________________________________\n",
            " Layer (type)                Output Shape              Param #   \n",
            "=================================================================\n",
            " embedding (Embedding)       (None, 100, 32)           32000     \n",
            "                                                                 \n",
            " global_average_pooling1d (  (None, 32)                0         \n",
            " GlobalAveragePooling1D)                                         \n",
            "                                                                 \n",
            " dense (Dense)               (None, 128)               4224      \n",
            "                                                                 \n",
            " dense_1 (Dense)             (None, 1)                 129       \n",
            "                                                                 \n",
            "=================================================================\n",
            "Total params: 36353 (142.00 KB)\n",
            "Trainable params: 36353 (142.00 KB)\n",
            "Non-trainable params: 0 (0.00 Byte)\n",
            "_________________________________________________________________\n"
          ]
        }
      ]
    },
    {
      "cell_type": "code",
      "source": [
        "(128+1)*1"
      ],
      "metadata": {
        "colab": {
          "base_uri": "https://localhost:8080/"
        },
        "id": "cxDLbq6EWF_K",
        "outputId": "2317e9e0-0c97-4a50-ec03-b388a55b5786"
      },
      "id": "cxDLbq6EWF_K",
      "execution_count": null,
      "outputs": [
        {
          "output_type": "execute_result",
          "data": {
            "text/plain": [
              "129"
            ]
          },
          "metadata": {},
          "execution_count": 32
        }
      ]
    },
    {
      "cell_type": "code",
      "execution_count": null,
      "id": "O0iUGTAijkkr",
      "metadata": {
        "id": "O0iUGTAijkkr"
      },
      "outputs": [],
      "source": [
        "emb_model.compile(optimizer = 'adam',\n",
        "                  loss = 'binary_crossentropy',\n",
        "                  metrics = ['accuracy'])"
      ]
    },
    {
      "cell_type": "code",
      "execution_count": null,
      "id": "eea527e2-29f8-43f6-abf0-a843a5c9eef1",
      "metadata": {
        "id": "eea527e2-29f8-43f6-abf0-a843a5c9eef1"
      },
      "outputs": [],
      "source": [
        "# Number of words = 1000\n",
        "# Each word is represented by 32 numbers/features\n",
        "# Total number of representations that need to be learnt by the model = 32*1000 = 32000 -> Number of parameters for the Embedding layer"
      ]
    },
    {
      "cell_type": "code",
      "execution_count": null,
      "id": "482c7f2d-0b49-4b73-b676-45e9168f7cb4",
      "metadata": {
        "id": "482c7f2d-0b49-4b73-b676-45e9168f7cb4"
      },
      "outputs": [],
      "source": [
        "# word1 = [10, 2]\n",
        "# word2 = [3,3]\n",
        "# word3 = [4,7]\n",
        "# sent1 = word1 word2 word3\n",
        "# [3,2]\n",
        "# Global Average Pooling - > [(10+3+4)/3, [(2+3+7)/3]"
      ]
    },
    {
      "cell_type": "code",
      "execution_count": null,
      "id": "f5870989-e71d-4a75-8918-8948142c68b2",
      "metadata": {
        "id": "f5870989-e71d-4a75-8918-8948142c68b2",
        "colab": {
          "base_uri": "https://localhost:8080/"
        },
        "outputId": "40fc4cd8-7722-4237-c8ea-d746d9c46249"
      },
      "outputs": [
        {
          "output_type": "execute_result",
          "data": {
            "text/plain": [
              "4224"
            ]
          },
          "metadata": {},
          "execution_count": 36
        }
      ],
      "source": [
        "(32+1)*128 # Remember the bias"
      ]
    },
    {
      "cell_type": "code",
      "execution_count": null,
      "id": "92508ea2-2bb9-4ff2-8970-a9acb1836b1a",
      "metadata": {
        "id": "92508ea2-2bb9-4ff2-8970-a9acb1836b1a",
        "colab": {
          "base_uri": "https://localhost:8080/"
        },
        "outputId": "ee0d2722-c8b9-4142-d9ab-85151d060559"
      },
      "outputs": [
        {
          "output_type": "execute_result",
          "data": {
            "text/plain": [
              "25000"
            ]
          },
          "metadata": {},
          "execution_count": 37
        }
      ],
      "source": [
        "len(y_test)"
      ]
    },
    {
      "cell_type": "code",
      "execution_count": null,
      "id": "a1Hu5hiJjzZx",
      "metadata": {
        "colab": {
          "base_uri": "https://localhost:8080/"
        },
        "id": "a1Hu5hiJjzZx",
        "outputId": "904b08ce-88cf-40e1-b855-f48822579b26"
      },
      "outputs": [
        {
          "output_type": "stream",
          "name": "stdout",
          "text": [
            "Epoch 1/10\n",
            "782/782 [==============================] - 25s 25ms/step - loss: 0.5129 - accuracy: 0.7399 - val_loss: 0.4328 - val_accuracy: 0.7964\n",
            "Epoch 2/10\n",
            "782/782 [==============================] - 8s 10ms/step - loss: 0.4218 - accuracy: 0.8028 - val_loss: 0.4293 - val_accuracy: 0.7998\n",
            "Epoch 3/10\n",
            "782/782 [==============================] - 7s 9ms/step - loss: 0.4151 - accuracy: 0.8081 - val_loss: 0.4376 - val_accuracy: 0.7910\n",
            "Epoch 4/10\n",
            "782/782 [==============================] - 5s 6ms/step - loss: 0.4124 - accuracy: 0.8099 - val_loss: 0.4303 - val_accuracy: 0.7985\n",
            "Epoch 5/10\n",
            "782/782 [==============================] - 6s 8ms/step - loss: 0.4110 - accuracy: 0.8130 - val_loss: 0.4366 - val_accuracy: 0.7964\n",
            "Epoch 6/10\n",
            "782/782 [==============================] - 6s 8ms/step - loss: 0.4097 - accuracy: 0.8113 - val_loss: 0.4303 - val_accuracy: 0.7984\n",
            "Epoch 7/10\n",
            "782/782 [==============================] - 5s 6ms/step - loss: 0.4090 - accuracy: 0.8108 - val_loss: 0.4309 - val_accuracy: 0.7970\n",
            "Epoch 8/10\n",
            "782/782 [==============================] - 6s 7ms/step - loss: 0.4079 - accuracy: 0.8110 - val_loss: 0.4311 - val_accuracy: 0.7970\n",
            "Epoch 9/10\n",
            "782/782 [==============================] - 5s 6ms/step - loss: 0.4070 - accuracy: 0.8132 - val_loss: 0.4295 - val_accuracy: 0.7988\n",
            "Epoch 10/10\n",
            "782/782 [==============================] - 6s 8ms/step - loss: 0.4065 - accuracy: 0.8112 - val_loss: 0.4300 - val_accuracy: 0.7974\n"
          ]
        }
      ],
      "source": [
        "result = emb_model.fit(train_sent_s,\n",
        "                       y_train,\n",
        "                       validation_data=(test_sent_s,y_test),\n",
        "                       epochs = 10)"
      ]
    },
    {
      "cell_type": "code",
      "execution_count": null,
      "id": "5zQy2-jIrVNp",
      "metadata": {
        "id": "5zQy2-jIrVNp"
      },
      "outputs": [],
      "source": [
        "new_reviews = [\"I bought this for my husband who plays the piano.  He is having a wonderful time playing these old hymns.  The music  is at times hard to read because we think the book was published for singing from more than playing from.  Great purchase though!\"]"
      ]
    },
    {
      "cell_type": "code",
      "source": [
        "#new_reviews = ['This is a horribly bad product. Stopped working after few days. No response from customer service']"
      ],
      "metadata": {
        "id": "GOS7p0aZYCtE"
      },
      "id": "GOS7p0aZYCtE",
      "execution_count": null,
      "outputs": []
    },
    {
      "cell_type": "code",
      "execution_count": null,
      "id": "p_5GoxvxrYzS",
      "metadata": {
        "id": "p_5GoxvxrYzS"
      },
      "outputs": [],
      "source": [
        "new_reviews = token.texts_to_sequences(new_reviews)"
      ]
    },
    {
      "cell_type": "code",
      "execution_count": null,
      "id": "8hg9qgWrrcFS",
      "metadata": {
        "id": "8hg9qgWrrcFS"
      },
      "outputs": [],
      "source": [
        "new_reviews = pad_sequences(new_reviews,\n",
        "                            maxlen=MAXLEN,\n",
        "                            padding='post',\n",
        "                            truncating='post')"
      ]
    },
    {
      "cell_type": "code",
      "execution_count": null,
      "id": "dfce9d7b-69a6-4f2d-a13b-84a91dc02666",
      "metadata": {
        "colab": {
          "base_uri": "https://localhost:8080/"
        },
        "id": "dfce9d7b-69a6-4f2d-a13b-84a91dc02666",
        "outputId": "3ac63c56-2e7e-45d2-84be-9e7b7573bd4c"
      },
      "outputs": [
        {
          "output_type": "execute_result",
          "data": {
            "text/plain": [
              "array([[ 11,   1,  12,  16,  59, 657,  35, 297,   2,   1,  27,   7, 258,\n",
              "          4, 387,  56, 394, 132, 152,   1,   2, 226,   7,  31, 209, 252,\n",
              "          6, 330,  86,  73, 102,   2, 272,  14,   1,  16,   1,  37,  51,\n",
              "         72, 394,  37,  85,   1, 149,   0,   0,   0,   0,   0,   0,   0,\n",
              "          0,   0,   0,   0,   0,   0,   0,   0,   0,   0,   0,   0,   0,\n",
              "          0,   0,   0,   0,   0,   0,   0,   0,   0,   0,   0,   0,   0,\n",
              "          0,   0,   0,   0,   0,   0,   0,   0,   0,   0,   0,   0,   0,\n",
              "          0,   0,   0,   0,   0,   0,   0,   0,   0]], dtype=int32)"
            ]
          },
          "metadata": {},
          "execution_count": 63
        }
      ],
      "source": [
        "new_reviews"
      ]
    },
    {
      "cell_type": "code",
      "execution_count": null,
      "id": "8DSSZDuvrd2X",
      "metadata": {
        "colab": {
          "base_uri": "https://localhost:8080/"
        },
        "id": "8DSSZDuvrd2X",
        "outputId": "ad92b365-2901-4812-e45b-d11b689e0e01"
      },
      "outputs": [
        {
          "output_type": "stream",
          "name": "stdout",
          "text": [
            "1/1 [==============================] - 0s 19ms/step\n"
          ]
        },
        {
          "output_type": "execute_result",
          "data": {
            "text/plain": [
              "array([[0.9703535]], dtype=float32)"
            ]
          },
          "metadata": {},
          "execution_count": 65
        }
      ],
      "source": [
        "emb_model.predict(new_reviews)"
      ]
    },
    {
      "cell_type": "code",
      "execution_count": null,
      "id": "sLyVdsopHIe0",
      "metadata": {
        "colab": {
          "base_uri": "https://localhost:8080/"
        },
        "id": "sLyVdsopHIe0",
        "outputId": "2a53b34a-dad5-41af-efbf-23c55107873b"
      },
      "outputs": [
        {
          "output_type": "stream",
          "name": "stdout",
          "text": [
            "(1000, 32)\n"
          ]
        }
      ],
      "source": [
        "e = emb_model.layers[0]\n",
        "weights = e.get_weights()[0]\n",
        "print(weights.shape)"
      ]
    },
    {
      "cell_type": "code",
      "execution_count": null,
      "id": "f84a8527-a663-49f3-913c-d1d9082fcf59",
      "metadata": {
        "id": "f84a8527-a663-49f3-913c-d1d9082fcf59"
      },
      "outputs": [],
      "source": [
        "reverse_word_index = token.index_word"
      ]
    },
    {
      "cell_type": "code",
      "execution_count": null,
      "id": "def60d90-a9d7-4827-b969-bd4e4cb76c4f",
      "metadata": {
        "id": "def60d90-a9d7-4827-b969-bd4e4cb76c4f"
      },
      "outputs": [],
      "source": [
        "#reverse_word_index"
      ]
    },
    {
      "cell_type": "code",
      "execution_count": null,
      "id": "H2joVjKXIYfu",
      "metadata": {
        "id": "H2joVjKXIYfu"
      },
      "outputs": [],
      "source": [
        "import io\n",
        "vectors = io.open('vectors_emb_22Oct2023.tsv', 'w', encoding='utf-8') # Vectors\n",
        "metadata = io.open('metadata_emb_22Oct2023.tsv', 'w', encoding='utf-8') # Metadata\n",
        "for word_num in range(1, VOCAB):\n",
        "    word = reverse_word_index[word_num]\n",
        "    embeddings = weights[word_num]\n",
        "    metadata.write(word + \"\\n\")\n",
        "    vectors.write('\\t'.join([str(x) for x in embeddings]) + \"\\n\")\n",
        "vectors.close()\n",
        "metadata.close()"
      ]
    },
    {
      "cell_type": "markdown",
      "source": [
        "# Bidirectional LSTM"
      ],
      "metadata": {
        "id": "HD8aUIfEa_Fm"
      },
      "id": "HD8aUIfEa_Fm"
    },
    {
      "cell_type": "code",
      "source": [
        "# They said Teddy bears are on sale\n",
        "# They said Teddy was a great president"
      ],
      "metadata": {
        "id": "Hh7kYUYuDbrL"
      },
      "id": "Hh7kYUYuDbrL",
      "execution_count": null,
      "outputs": []
    },
    {
      "cell_type": "code",
      "source": [
        "from tensorflow.keras.layers import  LSTM, Bidirectional"
      ],
      "metadata": {
        "id": "jUV19CQibDiq"
      },
      "id": "jUV19CQibDiq",
      "execution_count": null,
      "outputs": []
    },
    {
      "cell_type": "code",
      "source": [
        "bidi_model = Sequential()"
      ],
      "metadata": {
        "id": "dvmAbuSibF4L"
      },
      "id": "dvmAbuSibF4L",
      "execution_count": null,
      "outputs": []
    },
    {
      "cell_type": "code",
      "source": [
        "bidi_model.add(Embedding(VOCAB,\n",
        "                         EMBED_DIM,\n",
        "                         input_length = MAXLEN))"
      ],
      "metadata": {
        "id": "8mwECSA-bJQy"
      },
      "id": "8mwECSA-bJQy",
      "execution_count": null,
      "outputs": []
    },
    {
      "cell_type": "code",
      "source": [
        "bidi_model.add(Bidirectional(LSTM(128)))"
      ],
      "metadata": {
        "id": "wUBvsKHObLa1"
      },
      "id": "wUBvsKHObLa1",
      "execution_count": null,
      "outputs": []
    },
    {
      "cell_type": "code",
      "source": [
        "bidi_model.add(Dense(128,\n",
        "                     activation = 'relu',\n",
        "                     kernel_regularizer=tf.keras.regularizers.L2()))"
      ],
      "metadata": {
        "id": "_24jZHkBbNXt"
      },
      "id": "_24jZHkBbNXt",
      "execution_count": null,
      "outputs": []
    },
    {
      "cell_type": "code",
      "source": [
        "bidi_model.add(Dense(1, activation='sigmoid'))"
      ],
      "metadata": {
        "id": "2DhCUV12bPQa"
      },
      "id": "2DhCUV12bPQa",
      "execution_count": null,
      "outputs": []
    },
    {
      "cell_type": "code",
      "source": [
        "bidi_model.compile(optimizer = 'adam',\n",
        "                   loss = 'binary_crossentropy',\n",
        "                   metrics = ['accuracy'])\n",
        "print(bidi_model.summary())"
      ],
      "metadata": {
        "colab": {
          "base_uri": "https://localhost:8080/"
        },
        "id": "xZfVQGp8bQz2",
        "outputId": "af5e15ef-4cf6-42ed-db89-cd250d74aa65"
      },
      "id": "xZfVQGp8bQz2",
      "execution_count": null,
      "outputs": [
        {
          "output_type": "stream",
          "name": "stdout",
          "text": [
            "Model: \"sequential_1\"\n",
            "_________________________________________________________________\n",
            " Layer (type)                Output Shape              Param #   \n",
            "=================================================================\n",
            " embedding_1 (Embedding)     (None, 100, 32)           32000     \n",
            "                                                                 \n",
            " bidirectional (Bidirection  (None, 256)               164864    \n",
            " al)                                                             \n",
            "                                                                 \n",
            " dense_2 (Dense)             (None, 128)               32896     \n",
            "                                                                 \n",
            " dense_3 (Dense)             (None, 1)                 129       \n",
            "                                                                 \n",
            "=================================================================\n",
            "Total params: 229889 (898.00 KB)\n",
            "Trainable params: 229889 (898.00 KB)\n",
            "Non-trainable params: 0 (0.00 Byte)\n",
            "_________________________________________________________________\n",
            "None\n"
          ]
        }
      ]
    },
    {
      "cell_type": "code",
      "source": [
        "cp = tf.keras.callbacks.ModelCheckpoint('MybestModelBIDI.h5',\n",
        "                                        monitor='val_accuracy',\n",
        "                                        save_weights=True,\n",
        "                                        save_best_only = True,\n",
        "                                        verbose=1)"
      ],
      "metadata": {
        "id": "KCGgxOd1bTDE"
      },
      "id": "KCGgxOd1bTDE",
      "execution_count": null,
      "outputs": []
    },
    {
      "cell_type": "code",
      "source": [
        "result = bidi_model.fit(train_sent_s,\n",
        "                        y_train,\n",
        "                        validation_data=(test_sent_s,y_test),\n",
        "                        epochs = 20,\n",
        "                        batch_size = 500,\n",
        "                        callbacks = [cp])"
      ],
      "metadata": {
        "colab": {
          "base_uri": "https://localhost:8080/"
        },
        "id": "Ui7dQgHWbVPH",
        "outputId": "932d35cb-dd82-4ca1-d783-c916cfe47919"
      },
      "id": "Ui7dQgHWbVPH",
      "execution_count": null,
      "outputs": [
        {
          "output_type": "stream",
          "name": "stdout",
          "text": [
            "Epoch 1/20\n",
            "50/50 [==============================] - ETA: 0s - loss: 1.6475 - accuracy: 0.5914\n",
            "Epoch 1: val_accuracy improved from -inf to 0.67400, saving model to MybestModelBIDI.h5\n",
            "50/50 [==============================] - 9s 74ms/step - loss: 1.6475 - accuracy: 0.5914 - val_loss: 1.0811 - val_accuracy: 0.6740\n",
            "Epoch 2/20\n"
          ]
        },
        {
          "output_type": "stream",
          "name": "stderr",
          "text": [
            "/usr/local/lib/python3.10/dist-packages/keras/src/engine/training.py:3079: UserWarning: You are saving your model as an HDF5 file via `model.save()`. This file format is considered legacy. We recommend using instead the native Keras format, e.g. `model.save('my_model.keras')`.\n",
            "  saving_api.save_model(\n"
          ]
        },
        {
          "output_type": "stream",
          "name": "stdout",
          "text": [
            "49/50 [============================>.] - ETA: 0s - loss: 0.7766 - accuracy: 0.7427\n",
            "Epoch 2: val_accuracy improved from 0.67400 to 0.77832, saving model to MybestModelBIDI.h5\n",
            "50/50 [==============================] - 2s 46ms/step - loss: 0.7719 - accuracy: 0.7441 - val_loss: 0.5779 - val_accuracy: 0.7783\n",
            "Epoch 3/20\n",
            "49/50 [============================>.] - ETA: 0s - loss: 0.5150 - accuracy: 0.7895\n",
            "Epoch 3: val_accuracy improved from 0.77832 to 0.79280, saving model to MybestModelBIDI.h5\n",
            "50/50 [==============================] - 2s 45ms/step - loss: 0.5150 - accuracy: 0.7892 - val_loss: 0.4777 - val_accuracy: 0.7928\n",
            "Epoch 4/20\n",
            "49/50 [============================>.] - ETA: 0s - loss: 0.4473 - accuracy: 0.8049\n",
            "Epoch 4: val_accuracy improved from 0.79280 to 0.79552, saving model to MybestModelBIDI.h5\n",
            "50/50 [==============================] - 2s 44ms/step - loss: 0.4464 - accuracy: 0.8052 - val_loss: 0.4517 - val_accuracy: 0.7955\n",
            "Epoch 5/20\n",
            "49/50 [============================>.] - ETA: 0s - loss: 0.4256 - accuracy: 0.8122\n",
            "Epoch 5: val_accuracy did not improve from 0.79552\n",
            "50/50 [==============================] - 2s 42ms/step - loss: 0.4259 - accuracy: 0.8122 - val_loss: 0.4428 - val_accuracy: 0.7948\n",
            "Epoch 6/20\n",
            "49/50 [============================>.] - ETA: 0s - loss: 0.4206 - accuracy: 0.8137\n",
            "Epoch 6: val_accuracy did not improve from 0.79552\n",
            "50/50 [==============================] - 2s 44ms/step - loss: 0.4209 - accuracy: 0.8136 - val_loss: 0.4566 - val_accuracy: 0.7833\n",
            "Epoch 7/20\n",
            "49/50 [============================>.] - ETA: 0s - loss: 0.4144 - accuracy: 0.8167\n",
            "Epoch 7: val_accuracy improved from 0.79552 to 0.79648, saving model to MybestModelBIDI.h5\n",
            "50/50 [==============================] - 2s 44ms/step - loss: 0.4145 - accuracy: 0.8169 - val_loss: 0.4375 - val_accuracy: 0.7965\n",
            "Epoch 8/20\n",
            "49/50 [============================>.] - ETA: 0s - loss: 0.4131 - accuracy: 0.8175\n",
            "Epoch 8: val_accuracy did not improve from 0.79648\n",
            "50/50 [==============================] - 2s 44ms/step - loss: 0.4130 - accuracy: 0.8177 - val_loss: 0.4707 - val_accuracy: 0.7954\n",
            "Epoch 9/20\n",
            "49/50 [============================>.] - ETA: 0s - loss: 0.4080 - accuracy: 0.8222\n",
            "Epoch 9: val_accuracy did not improve from 0.79648\n",
            "50/50 [==============================] - 2s 49ms/step - loss: 0.4077 - accuracy: 0.8222 - val_loss: 0.4448 - val_accuracy: 0.7937\n",
            "Epoch 10/20\n",
            "49/50 [============================>.] - ETA: 0s - loss: 0.4033 - accuracy: 0.8232\n",
            "Epoch 10: val_accuracy did not improve from 0.79648\n",
            "50/50 [==============================] - 2s 43ms/step - loss: 0.4037 - accuracy: 0.8229 - val_loss: 0.4560 - val_accuracy: 0.7942\n",
            "Epoch 11/20\n",
            "49/50 [============================>.] - ETA: 0s - loss: 0.4038 - accuracy: 0.8233\n",
            "Epoch 11: val_accuracy did not improve from 0.79648\n",
            "50/50 [==============================] - 2s 44ms/step - loss: 0.4031 - accuracy: 0.8237 - val_loss: 0.4418 - val_accuracy: 0.7932\n",
            "Epoch 12/20\n",
            "49/50 [============================>.] - ETA: 0s - loss: 0.3998 - accuracy: 0.8252\n",
            "Epoch 12: val_accuracy did not improve from 0.79648\n",
            "50/50 [==============================] - 2s 44ms/step - loss: 0.3994 - accuracy: 0.8255 - val_loss: 0.4547 - val_accuracy: 0.7835\n",
            "Epoch 13/20\n",
            "49/50 [============================>.] - ETA: 0s - loss: 0.3989 - accuracy: 0.8238\n",
            "Epoch 13: val_accuracy did not improve from 0.79648\n",
            "50/50 [==============================] - 2s 44ms/step - loss: 0.3990 - accuracy: 0.8237 - val_loss: 0.4733 - val_accuracy: 0.7830\n",
            "Epoch 14/20\n",
            "49/50 [============================>.] - ETA: 0s - loss: 0.3907 - accuracy: 0.8291\n",
            "Epoch 14: val_accuracy did not improve from 0.79648\n",
            "50/50 [==============================] - 2s 44ms/step - loss: 0.3909 - accuracy: 0.8293 - val_loss: 0.4619 - val_accuracy: 0.7919\n",
            "Epoch 15/20\n",
            "49/50 [============================>.] - ETA: 0s - loss: 0.3865 - accuracy: 0.8327\n",
            "Epoch 15: val_accuracy did not improve from 0.79648\n",
            "50/50 [==============================] - 2s 45ms/step - loss: 0.3875 - accuracy: 0.8320 - val_loss: 0.4522 - val_accuracy: 0.7834\n",
            "Epoch 16/20\n",
            "49/50 [============================>.] - ETA: 0s - loss: 0.3849 - accuracy: 0.8319\n",
            "Epoch 16: val_accuracy did not improve from 0.79648\n",
            "50/50 [==============================] - 2s 42ms/step - loss: 0.3857 - accuracy: 0.8318 - val_loss: 0.4689 - val_accuracy: 0.7851\n",
            "Epoch 17/20\n",
            "49/50 [============================>.] - ETA: 0s - loss: 0.3832 - accuracy: 0.8330\n",
            "Epoch 17: val_accuracy did not improve from 0.79648\n",
            "50/50 [==============================] - 2s 43ms/step - loss: 0.3838 - accuracy: 0.8326 - val_loss: 0.4498 - val_accuracy: 0.7932\n",
            "Epoch 18/20\n",
            "49/50 [============================>.] - ETA: 0s - loss: 0.3821 - accuracy: 0.8345\n",
            "Epoch 18: val_accuracy did not improve from 0.79648\n",
            "50/50 [==============================] - 2s 42ms/step - loss: 0.3826 - accuracy: 0.8341 - val_loss: 0.4690 - val_accuracy: 0.7841\n",
            "Epoch 19/20\n",
            "49/50 [============================>.] - ETA: 0s - loss: 0.3771 - accuracy: 0.8364\n",
            "Epoch 19: val_accuracy did not improve from 0.79648\n",
            "50/50 [==============================] - 2s 42ms/step - loss: 0.3778 - accuracy: 0.8362 - val_loss: 0.4480 - val_accuracy: 0.7911\n",
            "Epoch 20/20\n",
            "49/50 [============================>.] - ETA: 0s - loss: 0.3762 - accuracy: 0.8346\n",
            "Epoch 20: val_accuracy did not improve from 0.79648\n",
            "50/50 [==============================] - 2s 45ms/step - loss: 0.3761 - accuracy: 0.8348 - val_loss: 0.4673 - val_accuracy: 0.7872\n"
          ]
        }
      ]
    },
    {
      "cell_type": "code",
      "source": [
        "new_model = tf.keras.models.load_model('MybestModelBIDI.h5')"
      ],
      "metadata": {
        "id": "TBzqNqdrbXti"
      },
      "id": "TBzqNqdrbXti",
      "execution_count": null,
      "outputs": []
    },
    {
      "cell_type": "code",
      "source": [
        "new_model.predict(new_reviews)"
      ],
      "metadata": {
        "colab": {
          "base_uri": "https://localhost:8080/"
        },
        "id": "TnhurDmzbZQC",
        "outputId": "ef0a4fd6-07fa-4b40-c9e1-bd0ae9d236ea"
      },
      "id": "TnhurDmzbZQC",
      "execution_count": null,
      "outputs": [
        {
          "output_type": "stream",
          "name": "stdout",
          "text": [
            "1/1 [==============================] - 0s 20ms/step\n"
          ]
        },
        {
          "output_type": "execute_result",
          "data": {
            "text/plain": [
              "array([[0.9539706]], dtype=float32)"
            ]
          },
          "metadata": {},
          "execution_count": 64
        }
      ]
    },
    {
      "cell_type": "code",
      "source": [],
      "metadata": {
        "id": "fkDjPZ22t1ZB"
      },
      "id": "fkDjPZ22t1ZB",
      "execution_count": null,
      "outputs": []
    }
  ],
  "metadata": {
    "accelerator": "GPU",
    "colab": {
      "provenance": [],
      "gpuType": "T4"
    },
    "kernelspec": {
      "display_name": "Python 3",
      "name": "python3"
    },
    "language_info": {
      "codemirror_mode": {
        "name": "ipython",
        "version": 3
      },
      "file_extension": ".py",
      "mimetype": "text/x-python",
      "name": "python",
      "nbconvert_exporter": "python",
      "pygments_lexer": "ipython3",
      "version": "3.7.6"
    },
    "widgets": {
      "application/vnd.jupyter.widget-state+json": {
        "158bcf797d4041bb9aa63398832a1e41": {
          "model_module": "@jupyter-widgets/controls",
          "model_name": "HBoxModel",
          "model_module_version": "1.5.0",
          "state": {
            "_dom_classes": [],
            "_model_module": "@jupyter-widgets/controls",
            "_model_module_version": "1.5.0",
            "_model_name": "HBoxModel",
            "_view_count": null,
            "_view_module": "@jupyter-widgets/controls",
            "_view_module_version": "1.5.0",
            "_view_name": "HBoxView",
            "box_style": "",
            "children": [
              "IPY_MODEL_7b67aa31022b45d984d88801e1d5be65",
              "IPY_MODEL_1dd1f163402d4166a95b2b990d8e3edc",
              "IPY_MODEL_d366fda2942940058fff590f425bc626"
            ],
            "layout": "IPY_MODEL_15aec332e6aa4df387397e78ad38912e"
          }
        },
        "7b67aa31022b45d984d88801e1d5be65": {
          "model_module": "@jupyter-widgets/controls",
          "model_name": "HTMLModel",
          "model_module_version": "1.5.0",
          "state": {
            "_dom_classes": [],
            "_model_module": "@jupyter-widgets/controls",
            "_model_module_version": "1.5.0",
            "_model_name": "HTMLModel",
            "_view_count": null,
            "_view_module": "@jupyter-widgets/controls",
            "_view_module_version": "1.5.0",
            "_view_name": "HTMLView",
            "description": "",
            "description_tooltip": null,
            "layout": "IPY_MODEL_9fe8518bca054d8ab05988b316f8d290",
            "placeholder": "​",
            "style": "IPY_MODEL_a83cdf83fa29486b95fb4c18d9e870a5",
            "value": "Dl Completed...: 100%"
          }
        },
        "1dd1f163402d4166a95b2b990d8e3edc": {
          "model_module": "@jupyter-widgets/controls",
          "model_name": "FloatProgressModel",
          "model_module_version": "1.5.0",
          "state": {
            "_dom_classes": [],
            "_model_module": "@jupyter-widgets/controls",
            "_model_module_version": "1.5.0",
            "_model_name": "FloatProgressModel",
            "_view_count": null,
            "_view_module": "@jupyter-widgets/controls",
            "_view_module_version": "1.5.0",
            "_view_name": "ProgressView",
            "bar_style": "success",
            "description": "",
            "description_tooltip": null,
            "layout": "IPY_MODEL_6cae764c666c4c74b7dd97492fdbd336",
            "max": 1,
            "min": 0,
            "orientation": "horizontal",
            "style": "IPY_MODEL_547e93f4d9714bfc95a422b46fc33597",
            "value": 1
          }
        },
        "d366fda2942940058fff590f425bc626": {
          "model_module": "@jupyter-widgets/controls",
          "model_name": "HTMLModel",
          "model_module_version": "1.5.0",
          "state": {
            "_dom_classes": [],
            "_model_module": "@jupyter-widgets/controls",
            "_model_module_version": "1.5.0",
            "_model_name": "HTMLModel",
            "_view_count": null,
            "_view_module": "@jupyter-widgets/controls",
            "_view_module_version": "1.5.0",
            "_view_name": "HTMLView",
            "description": "",
            "description_tooltip": null,
            "layout": "IPY_MODEL_c60a5bebd93444c88b1eaff68a92cdf2",
            "placeholder": "​",
            "style": "IPY_MODEL_58188d750f5d4442b1a8fb35a6af22dc",
            "value": " 1/1 [00:10&lt;00:00, 10.25s/ url]"
          }
        },
        "15aec332e6aa4df387397e78ad38912e": {
          "model_module": "@jupyter-widgets/base",
          "model_name": "LayoutModel",
          "model_module_version": "1.2.0",
          "state": {
            "_model_module": "@jupyter-widgets/base",
            "_model_module_version": "1.2.0",
            "_model_name": "LayoutModel",
            "_view_count": null,
            "_view_module": "@jupyter-widgets/base",
            "_view_module_version": "1.2.0",
            "_view_name": "LayoutView",
            "align_content": null,
            "align_items": null,
            "align_self": null,
            "border": null,
            "bottom": null,
            "display": null,
            "flex": null,
            "flex_flow": null,
            "grid_area": null,
            "grid_auto_columns": null,
            "grid_auto_flow": null,
            "grid_auto_rows": null,
            "grid_column": null,
            "grid_gap": null,
            "grid_row": null,
            "grid_template_areas": null,
            "grid_template_columns": null,
            "grid_template_rows": null,
            "height": null,
            "justify_content": null,
            "justify_items": null,
            "left": null,
            "margin": null,
            "max_height": null,
            "max_width": null,
            "min_height": null,
            "min_width": null,
            "object_fit": null,
            "object_position": null,
            "order": null,
            "overflow": null,
            "overflow_x": null,
            "overflow_y": null,
            "padding": null,
            "right": null,
            "top": null,
            "visibility": null,
            "width": null
          }
        },
        "9fe8518bca054d8ab05988b316f8d290": {
          "model_module": "@jupyter-widgets/base",
          "model_name": "LayoutModel",
          "model_module_version": "1.2.0",
          "state": {
            "_model_module": "@jupyter-widgets/base",
            "_model_module_version": "1.2.0",
            "_model_name": "LayoutModel",
            "_view_count": null,
            "_view_module": "@jupyter-widgets/base",
            "_view_module_version": "1.2.0",
            "_view_name": "LayoutView",
            "align_content": null,
            "align_items": null,
            "align_self": null,
            "border": null,
            "bottom": null,
            "display": null,
            "flex": null,
            "flex_flow": null,
            "grid_area": null,
            "grid_auto_columns": null,
            "grid_auto_flow": null,
            "grid_auto_rows": null,
            "grid_column": null,
            "grid_gap": null,
            "grid_row": null,
            "grid_template_areas": null,
            "grid_template_columns": null,
            "grid_template_rows": null,
            "height": null,
            "justify_content": null,
            "justify_items": null,
            "left": null,
            "margin": null,
            "max_height": null,
            "max_width": null,
            "min_height": null,
            "min_width": null,
            "object_fit": null,
            "object_position": null,
            "order": null,
            "overflow": null,
            "overflow_x": null,
            "overflow_y": null,
            "padding": null,
            "right": null,
            "top": null,
            "visibility": null,
            "width": null
          }
        },
        "a83cdf83fa29486b95fb4c18d9e870a5": {
          "model_module": "@jupyter-widgets/controls",
          "model_name": "DescriptionStyleModel",
          "model_module_version": "1.5.0",
          "state": {
            "_model_module": "@jupyter-widgets/controls",
            "_model_module_version": "1.5.0",
            "_model_name": "DescriptionStyleModel",
            "_view_count": null,
            "_view_module": "@jupyter-widgets/base",
            "_view_module_version": "1.2.0",
            "_view_name": "StyleView",
            "description_width": ""
          }
        },
        "6cae764c666c4c74b7dd97492fdbd336": {
          "model_module": "@jupyter-widgets/base",
          "model_name": "LayoutModel",
          "model_module_version": "1.2.0",
          "state": {
            "_model_module": "@jupyter-widgets/base",
            "_model_module_version": "1.2.0",
            "_model_name": "LayoutModel",
            "_view_count": null,
            "_view_module": "@jupyter-widgets/base",
            "_view_module_version": "1.2.0",
            "_view_name": "LayoutView",
            "align_content": null,
            "align_items": null,
            "align_self": null,
            "border": null,
            "bottom": null,
            "display": null,
            "flex": null,
            "flex_flow": null,
            "grid_area": null,
            "grid_auto_columns": null,
            "grid_auto_flow": null,
            "grid_auto_rows": null,
            "grid_column": null,
            "grid_gap": null,
            "grid_row": null,
            "grid_template_areas": null,
            "grid_template_columns": null,
            "grid_template_rows": null,
            "height": null,
            "justify_content": null,
            "justify_items": null,
            "left": null,
            "margin": null,
            "max_height": null,
            "max_width": null,
            "min_height": null,
            "min_width": null,
            "object_fit": null,
            "object_position": null,
            "order": null,
            "overflow": null,
            "overflow_x": null,
            "overflow_y": null,
            "padding": null,
            "right": null,
            "top": null,
            "visibility": null,
            "width": "20px"
          }
        },
        "547e93f4d9714bfc95a422b46fc33597": {
          "model_module": "@jupyter-widgets/controls",
          "model_name": "ProgressStyleModel",
          "model_module_version": "1.5.0",
          "state": {
            "_model_module": "@jupyter-widgets/controls",
            "_model_module_version": "1.5.0",
            "_model_name": "ProgressStyleModel",
            "_view_count": null,
            "_view_module": "@jupyter-widgets/base",
            "_view_module_version": "1.2.0",
            "_view_name": "StyleView",
            "bar_color": null,
            "description_width": ""
          }
        },
        "c60a5bebd93444c88b1eaff68a92cdf2": {
          "model_module": "@jupyter-widgets/base",
          "model_name": "LayoutModel",
          "model_module_version": "1.2.0",
          "state": {
            "_model_module": "@jupyter-widgets/base",
            "_model_module_version": "1.2.0",
            "_model_name": "LayoutModel",
            "_view_count": null,
            "_view_module": "@jupyter-widgets/base",
            "_view_module_version": "1.2.0",
            "_view_name": "LayoutView",
            "align_content": null,
            "align_items": null,
            "align_self": null,
            "border": null,
            "bottom": null,
            "display": null,
            "flex": null,
            "flex_flow": null,
            "grid_area": null,
            "grid_auto_columns": null,
            "grid_auto_flow": null,
            "grid_auto_rows": null,
            "grid_column": null,
            "grid_gap": null,
            "grid_row": null,
            "grid_template_areas": null,
            "grid_template_columns": null,
            "grid_template_rows": null,
            "height": null,
            "justify_content": null,
            "justify_items": null,
            "left": null,
            "margin": null,
            "max_height": null,
            "max_width": null,
            "min_height": null,
            "min_width": null,
            "object_fit": null,
            "object_position": null,
            "order": null,
            "overflow": null,
            "overflow_x": null,
            "overflow_y": null,
            "padding": null,
            "right": null,
            "top": null,
            "visibility": null,
            "width": null
          }
        },
        "58188d750f5d4442b1a8fb35a6af22dc": {
          "model_module": "@jupyter-widgets/controls",
          "model_name": "DescriptionStyleModel",
          "model_module_version": "1.5.0",
          "state": {
            "_model_module": "@jupyter-widgets/controls",
            "_model_module_version": "1.5.0",
            "_model_name": "DescriptionStyleModel",
            "_view_count": null,
            "_view_module": "@jupyter-widgets/base",
            "_view_module_version": "1.2.0",
            "_view_name": "StyleView",
            "description_width": ""
          }
        },
        "5412832da53a4d8fa9e2e2a5a969f076": {
          "model_module": "@jupyter-widgets/controls",
          "model_name": "HBoxModel",
          "model_module_version": "1.5.0",
          "state": {
            "_dom_classes": [],
            "_model_module": "@jupyter-widgets/controls",
            "_model_module_version": "1.5.0",
            "_model_name": "HBoxModel",
            "_view_count": null,
            "_view_module": "@jupyter-widgets/controls",
            "_view_module_version": "1.5.0",
            "_view_name": "HBoxView",
            "box_style": "",
            "children": [
              "IPY_MODEL_a1e3cf5995ca4236985f5caf8e38278a",
              "IPY_MODEL_8bacfdf1aa264d3f90e0458ff39502dc",
              "IPY_MODEL_52e8c19ec7094ceeaed30066dac7c277"
            ],
            "layout": "IPY_MODEL_5da4fa3c72da457d8fcaa6a9c9932660"
          }
        },
        "a1e3cf5995ca4236985f5caf8e38278a": {
          "model_module": "@jupyter-widgets/controls",
          "model_name": "HTMLModel",
          "model_module_version": "1.5.0",
          "state": {
            "_dom_classes": [],
            "_model_module": "@jupyter-widgets/controls",
            "_model_module_version": "1.5.0",
            "_model_name": "HTMLModel",
            "_view_count": null,
            "_view_module": "@jupyter-widgets/controls",
            "_view_module_version": "1.5.0",
            "_view_name": "HTMLView",
            "description": "",
            "description_tooltip": null,
            "layout": "IPY_MODEL_21970667da134ab4a0fd8f03b7ac5bd2",
            "placeholder": "​",
            "style": "IPY_MODEL_281644dcdb8f4bb9a60c62059e5f4743",
            "value": "Dl Size...: 100%"
          }
        },
        "8bacfdf1aa264d3f90e0458ff39502dc": {
          "model_module": "@jupyter-widgets/controls",
          "model_name": "FloatProgressModel",
          "model_module_version": "1.5.0",
          "state": {
            "_dom_classes": [],
            "_model_module": "@jupyter-widgets/controls",
            "_model_module_version": "1.5.0",
            "_model_name": "FloatProgressModel",
            "_view_count": null,
            "_view_module": "@jupyter-widgets/controls",
            "_view_module_version": "1.5.0",
            "_view_name": "ProgressView",
            "bar_style": "success",
            "description": "",
            "description_tooltip": null,
            "layout": "IPY_MODEL_132682315eaa4f49a316cfb123fa9b6f",
            "max": 1,
            "min": 0,
            "orientation": "horizontal",
            "style": "IPY_MODEL_067d50ab588d4fb39252111374fc886a",
            "value": 1
          }
        },
        "52e8c19ec7094ceeaed30066dac7c277": {
          "model_module": "@jupyter-widgets/controls",
          "model_name": "HTMLModel",
          "model_module_version": "1.5.0",
          "state": {
            "_dom_classes": [],
            "_model_module": "@jupyter-widgets/controls",
            "_model_module_version": "1.5.0",
            "_model_name": "HTMLModel",
            "_view_count": null,
            "_view_module": "@jupyter-widgets/controls",
            "_view_module_version": "1.5.0",
            "_view_name": "HTMLView",
            "description": "",
            "description_tooltip": null,
            "layout": "IPY_MODEL_42a60263ff854c4c9828ed7566cc89d7",
            "placeholder": "​",
            "style": "IPY_MODEL_9b7336caf8d4430d8741e3a04fcdf401",
            "value": " 80/80 [00:10&lt;00:00, 15.56 MiB/s]"
          }
        },
        "5da4fa3c72da457d8fcaa6a9c9932660": {
          "model_module": "@jupyter-widgets/base",
          "model_name": "LayoutModel",
          "model_module_version": "1.2.0",
          "state": {
            "_model_module": "@jupyter-widgets/base",
            "_model_module_version": "1.2.0",
            "_model_name": "LayoutModel",
            "_view_count": null,
            "_view_module": "@jupyter-widgets/base",
            "_view_module_version": "1.2.0",
            "_view_name": "LayoutView",
            "align_content": null,
            "align_items": null,
            "align_self": null,
            "border": null,
            "bottom": null,
            "display": null,
            "flex": null,
            "flex_flow": null,
            "grid_area": null,
            "grid_auto_columns": null,
            "grid_auto_flow": null,
            "grid_auto_rows": null,
            "grid_column": null,
            "grid_gap": null,
            "grid_row": null,
            "grid_template_areas": null,
            "grid_template_columns": null,
            "grid_template_rows": null,
            "height": null,
            "justify_content": null,
            "justify_items": null,
            "left": null,
            "margin": null,
            "max_height": null,
            "max_width": null,
            "min_height": null,
            "min_width": null,
            "object_fit": null,
            "object_position": null,
            "order": null,
            "overflow": null,
            "overflow_x": null,
            "overflow_y": null,
            "padding": null,
            "right": null,
            "top": null,
            "visibility": null,
            "width": null
          }
        },
        "21970667da134ab4a0fd8f03b7ac5bd2": {
          "model_module": "@jupyter-widgets/base",
          "model_name": "LayoutModel",
          "model_module_version": "1.2.0",
          "state": {
            "_model_module": "@jupyter-widgets/base",
            "_model_module_version": "1.2.0",
            "_model_name": "LayoutModel",
            "_view_count": null,
            "_view_module": "@jupyter-widgets/base",
            "_view_module_version": "1.2.0",
            "_view_name": "LayoutView",
            "align_content": null,
            "align_items": null,
            "align_self": null,
            "border": null,
            "bottom": null,
            "display": null,
            "flex": null,
            "flex_flow": null,
            "grid_area": null,
            "grid_auto_columns": null,
            "grid_auto_flow": null,
            "grid_auto_rows": null,
            "grid_column": null,
            "grid_gap": null,
            "grid_row": null,
            "grid_template_areas": null,
            "grid_template_columns": null,
            "grid_template_rows": null,
            "height": null,
            "justify_content": null,
            "justify_items": null,
            "left": null,
            "margin": null,
            "max_height": null,
            "max_width": null,
            "min_height": null,
            "min_width": null,
            "object_fit": null,
            "object_position": null,
            "order": null,
            "overflow": null,
            "overflow_x": null,
            "overflow_y": null,
            "padding": null,
            "right": null,
            "top": null,
            "visibility": null,
            "width": null
          }
        },
        "281644dcdb8f4bb9a60c62059e5f4743": {
          "model_module": "@jupyter-widgets/controls",
          "model_name": "DescriptionStyleModel",
          "model_module_version": "1.5.0",
          "state": {
            "_model_module": "@jupyter-widgets/controls",
            "_model_module_version": "1.5.0",
            "_model_name": "DescriptionStyleModel",
            "_view_count": null,
            "_view_module": "@jupyter-widgets/base",
            "_view_module_version": "1.2.0",
            "_view_name": "StyleView",
            "description_width": ""
          }
        },
        "132682315eaa4f49a316cfb123fa9b6f": {
          "model_module": "@jupyter-widgets/base",
          "model_name": "LayoutModel",
          "model_module_version": "1.2.0",
          "state": {
            "_model_module": "@jupyter-widgets/base",
            "_model_module_version": "1.2.0",
            "_model_name": "LayoutModel",
            "_view_count": null,
            "_view_module": "@jupyter-widgets/base",
            "_view_module_version": "1.2.0",
            "_view_name": "LayoutView",
            "align_content": null,
            "align_items": null,
            "align_self": null,
            "border": null,
            "bottom": null,
            "display": null,
            "flex": null,
            "flex_flow": null,
            "grid_area": null,
            "grid_auto_columns": null,
            "grid_auto_flow": null,
            "grid_auto_rows": null,
            "grid_column": null,
            "grid_gap": null,
            "grid_row": null,
            "grid_template_areas": null,
            "grid_template_columns": null,
            "grid_template_rows": null,
            "height": null,
            "justify_content": null,
            "justify_items": null,
            "left": null,
            "margin": null,
            "max_height": null,
            "max_width": null,
            "min_height": null,
            "min_width": null,
            "object_fit": null,
            "object_position": null,
            "order": null,
            "overflow": null,
            "overflow_x": null,
            "overflow_y": null,
            "padding": null,
            "right": null,
            "top": null,
            "visibility": null,
            "width": "20px"
          }
        },
        "067d50ab588d4fb39252111374fc886a": {
          "model_module": "@jupyter-widgets/controls",
          "model_name": "ProgressStyleModel",
          "model_module_version": "1.5.0",
          "state": {
            "_model_module": "@jupyter-widgets/controls",
            "_model_module_version": "1.5.0",
            "_model_name": "ProgressStyleModel",
            "_view_count": null,
            "_view_module": "@jupyter-widgets/base",
            "_view_module_version": "1.2.0",
            "_view_name": "StyleView",
            "bar_color": null,
            "description_width": ""
          }
        },
        "42a60263ff854c4c9828ed7566cc89d7": {
          "model_module": "@jupyter-widgets/base",
          "model_name": "LayoutModel",
          "model_module_version": "1.2.0",
          "state": {
            "_model_module": "@jupyter-widgets/base",
            "_model_module_version": "1.2.0",
            "_model_name": "LayoutModel",
            "_view_count": null,
            "_view_module": "@jupyter-widgets/base",
            "_view_module_version": "1.2.0",
            "_view_name": "LayoutView",
            "align_content": null,
            "align_items": null,
            "align_self": null,
            "border": null,
            "bottom": null,
            "display": null,
            "flex": null,
            "flex_flow": null,
            "grid_area": null,
            "grid_auto_columns": null,
            "grid_auto_flow": null,
            "grid_auto_rows": null,
            "grid_column": null,
            "grid_gap": null,
            "grid_row": null,
            "grid_template_areas": null,
            "grid_template_columns": null,
            "grid_template_rows": null,
            "height": null,
            "justify_content": null,
            "justify_items": null,
            "left": null,
            "margin": null,
            "max_height": null,
            "max_width": null,
            "min_height": null,
            "min_width": null,
            "object_fit": null,
            "object_position": null,
            "order": null,
            "overflow": null,
            "overflow_x": null,
            "overflow_y": null,
            "padding": null,
            "right": null,
            "top": null,
            "visibility": null,
            "width": null
          }
        },
        "9b7336caf8d4430d8741e3a04fcdf401": {
          "model_module": "@jupyter-widgets/controls",
          "model_name": "DescriptionStyleModel",
          "model_module_version": "1.5.0",
          "state": {
            "_model_module": "@jupyter-widgets/controls",
            "_model_module_version": "1.5.0",
            "_model_name": "DescriptionStyleModel",
            "_view_count": null,
            "_view_module": "@jupyter-widgets/base",
            "_view_module_version": "1.2.0",
            "_view_name": "StyleView",
            "description_width": ""
          }
        },
        "7706c3a4eafa48a989339e848a165448": {
          "model_module": "@jupyter-widgets/controls",
          "model_name": "HBoxModel",
          "model_module_version": "1.5.0",
          "state": {
            "_dom_classes": [],
            "_model_module": "@jupyter-widgets/controls",
            "_model_module_version": "1.5.0",
            "_model_name": "HBoxModel",
            "_view_count": null,
            "_view_module": "@jupyter-widgets/controls",
            "_view_module_version": "1.5.0",
            "_view_name": "HBoxView",
            "box_style": "",
            "children": [
              "IPY_MODEL_2909ff56eb7e4dcf803dd72e29eee9f2",
              "IPY_MODEL_a1f5517b3e1a4ace84b7e91f5813f08c",
              "IPY_MODEL_de11de3fb22944d5a2263b25e72f0c69"
            ],
            "layout": "IPY_MODEL_b497918c5ea3414da4883d5db053fc3c"
          }
        },
        "2909ff56eb7e4dcf803dd72e29eee9f2": {
          "model_module": "@jupyter-widgets/controls",
          "model_name": "HTMLModel",
          "model_module_version": "1.5.0",
          "state": {
            "_dom_classes": [],
            "_model_module": "@jupyter-widgets/controls",
            "_model_module_version": "1.5.0",
            "_model_name": "HTMLModel",
            "_view_count": null,
            "_view_module": "@jupyter-widgets/controls",
            "_view_module_version": "1.5.0",
            "_view_name": "HTMLView",
            "description": "",
            "description_tooltip": null,
            "layout": "IPY_MODEL_452be805f82e488f91ebece9e3e8556f",
            "placeholder": "​",
            "style": "IPY_MODEL_3f2055a309b94f7b921d2908a12d152e",
            "value": "Generating splits...: 100%"
          }
        },
        "a1f5517b3e1a4ace84b7e91f5813f08c": {
          "model_module": "@jupyter-widgets/controls",
          "model_name": "FloatProgressModel",
          "model_module_version": "1.5.0",
          "state": {
            "_dom_classes": [],
            "_model_module": "@jupyter-widgets/controls",
            "_model_module_version": "1.5.0",
            "_model_name": "FloatProgressModel",
            "_view_count": null,
            "_view_module": "@jupyter-widgets/controls",
            "_view_module_version": "1.5.0",
            "_view_name": "ProgressView",
            "bar_style": "",
            "description": "",
            "description_tooltip": null,
            "layout": "IPY_MODEL_611622e1342949e28667051550313182",
            "max": 3,
            "min": 0,
            "orientation": "horizontal",
            "style": "IPY_MODEL_a36d7084881c4decadd0d64e8e2d48fb",
            "value": 3
          }
        },
        "de11de3fb22944d5a2263b25e72f0c69": {
          "model_module": "@jupyter-widgets/controls",
          "model_name": "HTMLModel",
          "model_module_version": "1.5.0",
          "state": {
            "_dom_classes": [],
            "_model_module": "@jupyter-widgets/controls",
            "_model_module_version": "1.5.0",
            "_model_name": "HTMLModel",
            "_view_count": null,
            "_view_module": "@jupyter-widgets/controls",
            "_view_module_version": "1.5.0",
            "_view_name": "HTMLView",
            "description": "",
            "description_tooltip": null,
            "layout": "IPY_MODEL_da62e43ea40e45038ad4cacaf9b4743f",
            "placeholder": "​",
            "style": "IPY_MODEL_6c95178c0ed14e1c888ba6c8837d834f",
            "value": " 3/3 [00:34&lt;00:00, 11.79s/ splits]"
          }
        },
        "b497918c5ea3414da4883d5db053fc3c": {
          "model_module": "@jupyter-widgets/base",
          "model_name": "LayoutModel",
          "model_module_version": "1.2.0",
          "state": {
            "_model_module": "@jupyter-widgets/base",
            "_model_module_version": "1.2.0",
            "_model_name": "LayoutModel",
            "_view_count": null,
            "_view_module": "@jupyter-widgets/base",
            "_view_module_version": "1.2.0",
            "_view_name": "LayoutView",
            "align_content": null,
            "align_items": null,
            "align_self": null,
            "border": null,
            "bottom": null,
            "display": null,
            "flex": null,
            "flex_flow": null,
            "grid_area": null,
            "grid_auto_columns": null,
            "grid_auto_flow": null,
            "grid_auto_rows": null,
            "grid_column": null,
            "grid_gap": null,
            "grid_row": null,
            "grid_template_areas": null,
            "grid_template_columns": null,
            "grid_template_rows": null,
            "height": null,
            "justify_content": null,
            "justify_items": null,
            "left": null,
            "margin": null,
            "max_height": null,
            "max_width": null,
            "min_height": null,
            "min_width": null,
            "object_fit": null,
            "object_position": null,
            "order": null,
            "overflow": null,
            "overflow_x": null,
            "overflow_y": null,
            "padding": null,
            "right": null,
            "top": null,
            "visibility": "hidden",
            "width": null
          }
        },
        "452be805f82e488f91ebece9e3e8556f": {
          "model_module": "@jupyter-widgets/base",
          "model_name": "LayoutModel",
          "model_module_version": "1.2.0",
          "state": {
            "_model_module": "@jupyter-widgets/base",
            "_model_module_version": "1.2.0",
            "_model_name": "LayoutModel",
            "_view_count": null,
            "_view_module": "@jupyter-widgets/base",
            "_view_module_version": "1.2.0",
            "_view_name": "LayoutView",
            "align_content": null,
            "align_items": null,
            "align_self": null,
            "border": null,
            "bottom": null,
            "display": null,
            "flex": null,
            "flex_flow": null,
            "grid_area": null,
            "grid_auto_columns": null,
            "grid_auto_flow": null,
            "grid_auto_rows": null,
            "grid_column": null,
            "grid_gap": null,
            "grid_row": null,
            "grid_template_areas": null,
            "grid_template_columns": null,
            "grid_template_rows": null,
            "height": null,
            "justify_content": null,
            "justify_items": null,
            "left": null,
            "margin": null,
            "max_height": null,
            "max_width": null,
            "min_height": null,
            "min_width": null,
            "object_fit": null,
            "object_position": null,
            "order": null,
            "overflow": null,
            "overflow_x": null,
            "overflow_y": null,
            "padding": null,
            "right": null,
            "top": null,
            "visibility": null,
            "width": null
          }
        },
        "3f2055a309b94f7b921d2908a12d152e": {
          "model_module": "@jupyter-widgets/controls",
          "model_name": "DescriptionStyleModel",
          "model_module_version": "1.5.0",
          "state": {
            "_model_module": "@jupyter-widgets/controls",
            "_model_module_version": "1.5.0",
            "_model_name": "DescriptionStyleModel",
            "_view_count": null,
            "_view_module": "@jupyter-widgets/base",
            "_view_module_version": "1.2.0",
            "_view_name": "StyleView",
            "description_width": ""
          }
        },
        "611622e1342949e28667051550313182": {
          "model_module": "@jupyter-widgets/base",
          "model_name": "LayoutModel",
          "model_module_version": "1.2.0",
          "state": {
            "_model_module": "@jupyter-widgets/base",
            "_model_module_version": "1.2.0",
            "_model_name": "LayoutModel",
            "_view_count": null,
            "_view_module": "@jupyter-widgets/base",
            "_view_module_version": "1.2.0",
            "_view_name": "LayoutView",
            "align_content": null,
            "align_items": null,
            "align_self": null,
            "border": null,
            "bottom": null,
            "display": null,
            "flex": null,
            "flex_flow": null,
            "grid_area": null,
            "grid_auto_columns": null,
            "grid_auto_flow": null,
            "grid_auto_rows": null,
            "grid_column": null,
            "grid_gap": null,
            "grid_row": null,
            "grid_template_areas": null,
            "grid_template_columns": null,
            "grid_template_rows": null,
            "height": null,
            "justify_content": null,
            "justify_items": null,
            "left": null,
            "margin": null,
            "max_height": null,
            "max_width": null,
            "min_height": null,
            "min_width": null,
            "object_fit": null,
            "object_position": null,
            "order": null,
            "overflow": null,
            "overflow_x": null,
            "overflow_y": null,
            "padding": null,
            "right": null,
            "top": null,
            "visibility": null,
            "width": null
          }
        },
        "a36d7084881c4decadd0d64e8e2d48fb": {
          "model_module": "@jupyter-widgets/controls",
          "model_name": "ProgressStyleModel",
          "model_module_version": "1.5.0",
          "state": {
            "_model_module": "@jupyter-widgets/controls",
            "_model_module_version": "1.5.0",
            "_model_name": "ProgressStyleModel",
            "_view_count": null,
            "_view_module": "@jupyter-widgets/base",
            "_view_module_version": "1.2.0",
            "_view_name": "StyleView",
            "bar_color": null,
            "description_width": ""
          }
        },
        "da62e43ea40e45038ad4cacaf9b4743f": {
          "model_module": "@jupyter-widgets/base",
          "model_name": "LayoutModel",
          "model_module_version": "1.2.0",
          "state": {
            "_model_module": "@jupyter-widgets/base",
            "_model_module_version": "1.2.0",
            "_model_name": "LayoutModel",
            "_view_count": null,
            "_view_module": "@jupyter-widgets/base",
            "_view_module_version": "1.2.0",
            "_view_name": "LayoutView",
            "align_content": null,
            "align_items": null,
            "align_self": null,
            "border": null,
            "bottom": null,
            "display": null,
            "flex": null,
            "flex_flow": null,
            "grid_area": null,
            "grid_auto_columns": null,
            "grid_auto_flow": null,
            "grid_auto_rows": null,
            "grid_column": null,
            "grid_gap": null,
            "grid_row": null,
            "grid_template_areas": null,
            "grid_template_columns": null,
            "grid_template_rows": null,
            "height": null,
            "justify_content": null,
            "justify_items": null,
            "left": null,
            "margin": null,
            "max_height": null,
            "max_width": null,
            "min_height": null,
            "min_width": null,
            "object_fit": null,
            "object_position": null,
            "order": null,
            "overflow": null,
            "overflow_x": null,
            "overflow_y": null,
            "padding": null,
            "right": null,
            "top": null,
            "visibility": null,
            "width": null
          }
        },
        "6c95178c0ed14e1c888ba6c8837d834f": {
          "model_module": "@jupyter-widgets/controls",
          "model_name": "DescriptionStyleModel",
          "model_module_version": "1.5.0",
          "state": {
            "_model_module": "@jupyter-widgets/controls",
            "_model_module_version": "1.5.0",
            "_model_name": "DescriptionStyleModel",
            "_view_count": null,
            "_view_module": "@jupyter-widgets/base",
            "_view_module_version": "1.2.0",
            "_view_name": "StyleView",
            "description_width": ""
          }
        },
        "7491539df2f54c42898b528d61af2868": {
          "model_module": "@jupyter-widgets/controls",
          "model_name": "HBoxModel",
          "model_module_version": "1.5.0",
          "state": {
            "_dom_classes": [],
            "_model_module": "@jupyter-widgets/controls",
            "_model_module_version": "1.5.0",
            "_model_name": "HBoxModel",
            "_view_count": null,
            "_view_module": "@jupyter-widgets/controls",
            "_view_module_version": "1.5.0",
            "_view_name": "HBoxView",
            "box_style": "",
            "children": [
              "IPY_MODEL_bfef71d8bd634db7a391214a8156e7f6",
              "IPY_MODEL_92cea93c6fb74f779e8b2037b2f5d2b0",
              "IPY_MODEL_3164f29a80924a809199ca9c4de9304e"
            ],
            "layout": "IPY_MODEL_802048fe673a4d86913d90e2211811ec"
          }
        },
        "bfef71d8bd634db7a391214a8156e7f6": {
          "model_module": "@jupyter-widgets/controls",
          "model_name": "HTMLModel",
          "model_module_version": "1.5.0",
          "state": {
            "_dom_classes": [],
            "_model_module": "@jupyter-widgets/controls",
            "_model_module_version": "1.5.0",
            "_model_name": "HTMLModel",
            "_view_count": null,
            "_view_module": "@jupyter-widgets/controls",
            "_view_module_version": "1.5.0",
            "_view_name": "HTMLView",
            "description": "",
            "description_tooltip": null,
            "layout": "IPY_MODEL_f7410cf0120f4dd0ac5cc8f1a5f28c15",
            "placeholder": "​",
            "style": "IPY_MODEL_325de3cadb54415582052b24791a3f06",
            "value": "Generating train examples...:  91%"
          }
        },
        "92cea93c6fb74f779e8b2037b2f5d2b0": {
          "model_module": "@jupyter-widgets/controls",
          "model_name": "FloatProgressModel",
          "model_module_version": "1.5.0",
          "state": {
            "_dom_classes": [],
            "_model_module": "@jupyter-widgets/controls",
            "_model_module_version": "1.5.0",
            "_model_name": "FloatProgressModel",
            "_view_count": null,
            "_view_module": "@jupyter-widgets/controls",
            "_view_module_version": "1.5.0",
            "_view_name": "ProgressView",
            "bar_style": "",
            "description": "",
            "description_tooltip": null,
            "layout": "IPY_MODEL_c94add7826ce4defb6806ee46ac41dad",
            "max": 25000,
            "min": 0,
            "orientation": "horizontal",
            "style": "IPY_MODEL_a99bc966afdc4e83b591ceffafc01526",
            "value": 25000
          }
        },
        "3164f29a80924a809199ca9c4de9304e": {
          "model_module": "@jupyter-widgets/controls",
          "model_name": "HTMLModel",
          "model_module_version": "1.5.0",
          "state": {
            "_dom_classes": [],
            "_model_module": "@jupyter-widgets/controls",
            "_model_module_version": "1.5.0",
            "_model_name": "HTMLModel",
            "_view_count": null,
            "_view_module": "@jupyter-widgets/controls",
            "_view_module_version": "1.5.0",
            "_view_name": "HTMLView",
            "description": "",
            "description_tooltip": null,
            "layout": "IPY_MODEL_b56bffaad01747b7a60aab7aabd52cf6",
            "placeholder": "​",
            "style": "IPY_MODEL_72f743e3939f484da7050dd036e81257",
            "value": " 22704/25000 [00:06&lt;00:00, 4351.25 examples/s]"
          }
        },
        "802048fe673a4d86913d90e2211811ec": {
          "model_module": "@jupyter-widgets/base",
          "model_name": "LayoutModel",
          "model_module_version": "1.2.0",
          "state": {
            "_model_module": "@jupyter-widgets/base",
            "_model_module_version": "1.2.0",
            "_model_name": "LayoutModel",
            "_view_count": null,
            "_view_module": "@jupyter-widgets/base",
            "_view_module_version": "1.2.0",
            "_view_name": "LayoutView",
            "align_content": null,
            "align_items": null,
            "align_self": null,
            "border": null,
            "bottom": null,
            "display": null,
            "flex": null,
            "flex_flow": null,
            "grid_area": null,
            "grid_auto_columns": null,
            "grid_auto_flow": null,
            "grid_auto_rows": null,
            "grid_column": null,
            "grid_gap": null,
            "grid_row": null,
            "grid_template_areas": null,
            "grid_template_columns": null,
            "grid_template_rows": null,
            "height": null,
            "justify_content": null,
            "justify_items": null,
            "left": null,
            "margin": null,
            "max_height": null,
            "max_width": null,
            "min_height": null,
            "min_width": null,
            "object_fit": null,
            "object_position": null,
            "order": null,
            "overflow": null,
            "overflow_x": null,
            "overflow_y": null,
            "padding": null,
            "right": null,
            "top": null,
            "visibility": "hidden",
            "width": null
          }
        },
        "f7410cf0120f4dd0ac5cc8f1a5f28c15": {
          "model_module": "@jupyter-widgets/base",
          "model_name": "LayoutModel",
          "model_module_version": "1.2.0",
          "state": {
            "_model_module": "@jupyter-widgets/base",
            "_model_module_version": "1.2.0",
            "_model_name": "LayoutModel",
            "_view_count": null,
            "_view_module": "@jupyter-widgets/base",
            "_view_module_version": "1.2.0",
            "_view_name": "LayoutView",
            "align_content": null,
            "align_items": null,
            "align_self": null,
            "border": null,
            "bottom": null,
            "display": null,
            "flex": null,
            "flex_flow": null,
            "grid_area": null,
            "grid_auto_columns": null,
            "grid_auto_flow": null,
            "grid_auto_rows": null,
            "grid_column": null,
            "grid_gap": null,
            "grid_row": null,
            "grid_template_areas": null,
            "grid_template_columns": null,
            "grid_template_rows": null,
            "height": null,
            "justify_content": null,
            "justify_items": null,
            "left": null,
            "margin": null,
            "max_height": null,
            "max_width": null,
            "min_height": null,
            "min_width": null,
            "object_fit": null,
            "object_position": null,
            "order": null,
            "overflow": null,
            "overflow_x": null,
            "overflow_y": null,
            "padding": null,
            "right": null,
            "top": null,
            "visibility": null,
            "width": null
          }
        },
        "325de3cadb54415582052b24791a3f06": {
          "model_module": "@jupyter-widgets/controls",
          "model_name": "DescriptionStyleModel",
          "model_module_version": "1.5.0",
          "state": {
            "_model_module": "@jupyter-widgets/controls",
            "_model_module_version": "1.5.0",
            "_model_name": "DescriptionStyleModel",
            "_view_count": null,
            "_view_module": "@jupyter-widgets/base",
            "_view_module_version": "1.2.0",
            "_view_name": "StyleView",
            "description_width": ""
          }
        },
        "c94add7826ce4defb6806ee46ac41dad": {
          "model_module": "@jupyter-widgets/base",
          "model_name": "LayoutModel",
          "model_module_version": "1.2.0",
          "state": {
            "_model_module": "@jupyter-widgets/base",
            "_model_module_version": "1.2.0",
            "_model_name": "LayoutModel",
            "_view_count": null,
            "_view_module": "@jupyter-widgets/base",
            "_view_module_version": "1.2.0",
            "_view_name": "LayoutView",
            "align_content": null,
            "align_items": null,
            "align_self": null,
            "border": null,
            "bottom": null,
            "display": null,
            "flex": null,
            "flex_flow": null,
            "grid_area": null,
            "grid_auto_columns": null,
            "grid_auto_flow": null,
            "grid_auto_rows": null,
            "grid_column": null,
            "grid_gap": null,
            "grid_row": null,
            "grid_template_areas": null,
            "grid_template_columns": null,
            "grid_template_rows": null,
            "height": null,
            "justify_content": null,
            "justify_items": null,
            "left": null,
            "margin": null,
            "max_height": null,
            "max_width": null,
            "min_height": null,
            "min_width": null,
            "object_fit": null,
            "object_position": null,
            "order": null,
            "overflow": null,
            "overflow_x": null,
            "overflow_y": null,
            "padding": null,
            "right": null,
            "top": null,
            "visibility": null,
            "width": null
          }
        },
        "a99bc966afdc4e83b591ceffafc01526": {
          "model_module": "@jupyter-widgets/controls",
          "model_name": "ProgressStyleModel",
          "model_module_version": "1.5.0",
          "state": {
            "_model_module": "@jupyter-widgets/controls",
            "_model_module_version": "1.5.0",
            "_model_name": "ProgressStyleModel",
            "_view_count": null,
            "_view_module": "@jupyter-widgets/base",
            "_view_module_version": "1.2.0",
            "_view_name": "StyleView",
            "bar_color": null,
            "description_width": ""
          }
        },
        "b56bffaad01747b7a60aab7aabd52cf6": {
          "model_module": "@jupyter-widgets/base",
          "model_name": "LayoutModel",
          "model_module_version": "1.2.0",
          "state": {
            "_model_module": "@jupyter-widgets/base",
            "_model_module_version": "1.2.0",
            "_model_name": "LayoutModel",
            "_view_count": null,
            "_view_module": "@jupyter-widgets/base",
            "_view_module_version": "1.2.0",
            "_view_name": "LayoutView",
            "align_content": null,
            "align_items": null,
            "align_self": null,
            "border": null,
            "bottom": null,
            "display": null,
            "flex": null,
            "flex_flow": null,
            "grid_area": null,
            "grid_auto_columns": null,
            "grid_auto_flow": null,
            "grid_auto_rows": null,
            "grid_column": null,
            "grid_gap": null,
            "grid_row": null,
            "grid_template_areas": null,
            "grid_template_columns": null,
            "grid_template_rows": null,
            "height": null,
            "justify_content": null,
            "justify_items": null,
            "left": null,
            "margin": null,
            "max_height": null,
            "max_width": null,
            "min_height": null,
            "min_width": null,
            "object_fit": null,
            "object_position": null,
            "order": null,
            "overflow": null,
            "overflow_x": null,
            "overflow_y": null,
            "padding": null,
            "right": null,
            "top": null,
            "visibility": null,
            "width": null
          }
        },
        "72f743e3939f484da7050dd036e81257": {
          "model_module": "@jupyter-widgets/controls",
          "model_name": "DescriptionStyleModel",
          "model_module_version": "1.5.0",
          "state": {
            "_model_module": "@jupyter-widgets/controls",
            "_model_module_version": "1.5.0",
            "_model_name": "DescriptionStyleModel",
            "_view_count": null,
            "_view_module": "@jupyter-widgets/base",
            "_view_module_version": "1.2.0",
            "_view_name": "StyleView",
            "description_width": ""
          }
        },
        "624d16d98d374201abd58bccf2251917": {
          "model_module": "@jupyter-widgets/controls",
          "model_name": "HBoxModel",
          "model_module_version": "1.5.0",
          "state": {
            "_dom_classes": [],
            "_model_module": "@jupyter-widgets/controls",
            "_model_module_version": "1.5.0",
            "_model_name": "HBoxModel",
            "_view_count": null,
            "_view_module": "@jupyter-widgets/controls",
            "_view_module_version": "1.5.0",
            "_view_name": "HBoxView",
            "box_style": "",
            "children": [
              "IPY_MODEL_f2da197f1635422eb8b9bc4dcae72f84",
              "IPY_MODEL_8219f17c757e4d9c8cc9e245cf349958",
              "IPY_MODEL_31510be85f5844129769e1594933f24c"
            ],
            "layout": "IPY_MODEL_ba671cb3a6264672aa613ddc5a332aaa"
          }
        },
        "f2da197f1635422eb8b9bc4dcae72f84": {
          "model_module": "@jupyter-widgets/controls",
          "model_name": "HTMLModel",
          "model_module_version": "1.5.0",
          "state": {
            "_dom_classes": [],
            "_model_module": "@jupyter-widgets/controls",
            "_model_module_version": "1.5.0",
            "_model_name": "HTMLModel",
            "_view_count": null,
            "_view_module": "@jupyter-widgets/controls",
            "_view_module_version": "1.5.0",
            "_view_name": "HTMLView",
            "description": "",
            "description_tooltip": null,
            "layout": "IPY_MODEL_21e33e61f5e041c0ac65ca4cf3e30105",
            "placeholder": "​",
            "style": "IPY_MODEL_7d061b2e020d4929bc1c532b79669c80",
            "value": "Shuffling /root/tensorflow_datasets/imdb_reviews/plain_text/1.0.0.incompleteQ429A6/imdb_reviews-train.tfrecord*...:  68%"
          }
        },
        "8219f17c757e4d9c8cc9e245cf349958": {
          "model_module": "@jupyter-widgets/controls",
          "model_name": "FloatProgressModel",
          "model_module_version": "1.5.0",
          "state": {
            "_dom_classes": [],
            "_model_module": "@jupyter-widgets/controls",
            "_model_module_version": "1.5.0",
            "_model_name": "FloatProgressModel",
            "_view_count": null,
            "_view_module": "@jupyter-widgets/controls",
            "_view_module_version": "1.5.0",
            "_view_name": "ProgressView",
            "bar_style": "",
            "description": "",
            "description_tooltip": null,
            "layout": "IPY_MODEL_8eb88759fe8f4005a590f9ac0796a82d",
            "max": 25000,
            "min": 0,
            "orientation": "horizontal",
            "style": "IPY_MODEL_1e3fd6cff1a44b96b1ea6ee16dca42f4",
            "value": 25000
          }
        },
        "31510be85f5844129769e1594933f24c": {
          "model_module": "@jupyter-widgets/controls",
          "model_name": "HTMLModel",
          "model_module_version": "1.5.0",
          "state": {
            "_dom_classes": [],
            "_model_module": "@jupyter-widgets/controls",
            "_model_module_version": "1.5.0",
            "_model_name": "HTMLModel",
            "_view_count": null,
            "_view_module": "@jupyter-widgets/controls",
            "_view_module_version": "1.5.0",
            "_view_name": "HTMLView",
            "description": "",
            "description_tooltip": null,
            "layout": "IPY_MODEL_a72ab62666844f1e8230670bcab9d832",
            "placeholder": "​",
            "style": "IPY_MODEL_394b3b3f18974c1f93c83dd829cad260",
            "value": " 16945/25000 [00:00&lt;00:00, 169422.69 examples/s]"
          }
        },
        "ba671cb3a6264672aa613ddc5a332aaa": {
          "model_module": "@jupyter-widgets/base",
          "model_name": "LayoutModel",
          "model_module_version": "1.2.0",
          "state": {
            "_model_module": "@jupyter-widgets/base",
            "_model_module_version": "1.2.0",
            "_model_name": "LayoutModel",
            "_view_count": null,
            "_view_module": "@jupyter-widgets/base",
            "_view_module_version": "1.2.0",
            "_view_name": "LayoutView",
            "align_content": null,
            "align_items": null,
            "align_self": null,
            "border": null,
            "bottom": null,
            "display": null,
            "flex": null,
            "flex_flow": null,
            "grid_area": null,
            "grid_auto_columns": null,
            "grid_auto_flow": null,
            "grid_auto_rows": null,
            "grid_column": null,
            "grid_gap": null,
            "grid_row": null,
            "grid_template_areas": null,
            "grid_template_columns": null,
            "grid_template_rows": null,
            "height": null,
            "justify_content": null,
            "justify_items": null,
            "left": null,
            "margin": null,
            "max_height": null,
            "max_width": null,
            "min_height": null,
            "min_width": null,
            "object_fit": null,
            "object_position": null,
            "order": null,
            "overflow": null,
            "overflow_x": null,
            "overflow_y": null,
            "padding": null,
            "right": null,
            "top": null,
            "visibility": "hidden",
            "width": null
          }
        },
        "21e33e61f5e041c0ac65ca4cf3e30105": {
          "model_module": "@jupyter-widgets/base",
          "model_name": "LayoutModel",
          "model_module_version": "1.2.0",
          "state": {
            "_model_module": "@jupyter-widgets/base",
            "_model_module_version": "1.2.0",
            "_model_name": "LayoutModel",
            "_view_count": null,
            "_view_module": "@jupyter-widgets/base",
            "_view_module_version": "1.2.0",
            "_view_name": "LayoutView",
            "align_content": null,
            "align_items": null,
            "align_self": null,
            "border": null,
            "bottom": null,
            "display": null,
            "flex": null,
            "flex_flow": null,
            "grid_area": null,
            "grid_auto_columns": null,
            "grid_auto_flow": null,
            "grid_auto_rows": null,
            "grid_column": null,
            "grid_gap": null,
            "grid_row": null,
            "grid_template_areas": null,
            "grid_template_columns": null,
            "grid_template_rows": null,
            "height": null,
            "justify_content": null,
            "justify_items": null,
            "left": null,
            "margin": null,
            "max_height": null,
            "max_width": null,
            "min_height": null,
            "min_width": null,
            "object_fit": null,
            "object_position": null,
            "order": null,
            "overflow": null,
            "overflow_x": null,
            "overflow_y": null,
            "padding": null,
            "right": null,
            "top": null,
            "visibility": null,
            "width": null
          }
        },
        "7d061b2e020d4929bc1c532b79669c80": {
          "model_module": "@jupyter-widgets/controls",
          "model_name": "DescriptionStyleModel",
          "model_module_version": "1.5.0",
          "state": {
            "_model_module": "@jupyter-widgets/controls",
            "_model_module_version": "1.5.0",
            "_model_name": "DescriptionStyleModel",
            "_view_count": null,
            "_view_module": "@jupyter-widgets/base",
            "_view_module_version": "1.2.0",
            "_view_name": "StyleView",
            "description_width": ""
          }
        },
        "8eb88759fe8f4005a590f9ac0796a82d": {
          "model_module": "@jupyter-widgets/base",
          "model_name": "LayoutModel",
          "model_module_version": "1.2.0",
          "state": {
            "_model_module": "@jupyter-widgets/base",
            "_model_module_version": "1.2.0",
            "_model_name": "LayoutModel",
            "_view_count": null,
            "_view_module": "@jupyter-widgets/base",
            "_view_module_version": "1.2.0",
            "_view_name": "LayoutView",
            "align_content": null,
            "align_items": null,
            "align_self": null,
            "border": null,
            "bottom": null,
            "display": null,
            "flex": null,
            "flex_flow": null,
            "grid_area": null,
            "grid_auto_columns": null,
            "grid_auto_flow": null,
            "grid_auto_rows": null,
            "grid_column": null,
            "grid_gap": null,
            "grid_row": null,
            "grid_template_areas": null,
            "grid_template_columns": null,
            "grid_template_rows": null,
            "height": null,
            "justify_content": null,
            "justify_items": null,
            "left": null,
            "margin": null,
            "max_height": null,
            "max_width": null,
            "min_height": null,
            "min_width": null,
            "object_fit": null,
            "object_position": null,
            "order": null,
            "overflow": null,
            "overflow_x": null,
            "overflow_y": null,
            "padding": null,
            "right": null,
            "top": null,
            "visibility": null,
            "width": null
          }
        },
        "1e3fd6cff1a44b96b1ea6ee16dca42f4": {
          "model_module": "@jupyter-widgets/controls",
          "model_name": "ProgressStyleModel",
          "model_module_version": "1.5.0",
          "state": {
            "_model_module": "@jupyter-widgets/controls",
            "_model_module_version": "1.5.0",
            "_model_name": "ProgressStyleModel",
            "_view_count": null,
            "_view_module": "@jupyter-widgets/base",
            "_view_module_version": "1.2.0",
            "_view_name": "StyleView",
            "bar_color": null,
            "description_width": ""
          }
        },
        "a72ab62666844f1e8230670bcab9d832": {
          "model_module": "@jupyter-widgets/base",
          "model_name": "LayoutModel",
          "model_module_version": "1.2.0",
          "state": {
            "_model_module": "@jupyter-widgets/base",
            "_model_module_version": "1.2.0",
            "_model_name": "LayoutModel",
            "_view_count": null,
            "_view_module": "@jupyter-widgets/base",
            "_view_module_version": "1.2.0",
            "_view_name": "LayoutView",
            "align_content": null,
            "align_items": null,
            "align_self": null,
            "border": null,
            "bottom": null,
            "display": null,
            "flex": null,
            "flex_flow": null,
            "grid_area": null,
            "grid_auto_columns": null,
            "grid_auto_flow": null,
            "grid_auto_rows": null,
            "grid_column": null,
            "grid_gap": null,
            "grid_row": null,
            "grid_template_areas": null,
            "grid_template_columns": null,
            "grid_template_rows": null,
            "height": null,
            "justify_content": null,
            "justify_items": null,
            "left": null,
            "margin": null,
            "max_height": null,
            "max_width": null,
            "min_height": null,
            "min_width": null,
            "object_fit": null,
            "object_position": null,
            "order": null,
            "overflow": null,
            "overflow_x": null,
            "overflow_y": null,
            "padding": null,
            "right": null,
            "top": null,
            "visibility": null,
            "width": null
          }
        },
        "394b3b3f18974c1f93c83dd829cad260": {
          "model_module": "@jupyter-widgets/controls",
          "model_name": "DescriptionStyleModel",
          "model_module_version": "1.5.0",
          "state": {
            "_model_module": "@jupyter-widgets/controls",
            "_model_module_version": "1.5.0",
            "_model_name": "DescriptionStyleModel",
            "_view_count": null,
            "_view_module": "@jupyter-widgets/base",
            "_view_module_version": "1.2.0",
            "_view_name": "StyleView",
            "description_width": ""
          }
        },
        "5b3afd9e3d9e467d924a41db7c98b3b5": {
          "model_module": "@jupyter-widgets/controls",
          "model_name": "HBoxModel",
          "model_module_version": "1.5.0",
          "state": {
            "_dom_classes": [],
            "_model_module": "@jupyter-widgets/controls",
            "_model_module_version": "1.5.0",
            "_model_name": "HBoxModel",
            "_view_count": null,
            "_view_module": "@jupyter-widgets/controls",
            "_view_module_version": "1.5.0",
            "_view_name": "HBoxView",
            "box_style": "",
            "children": [
              "IPY_MODEL_3117117af6a84e50ad28e05889df400e",
              "IPY_MODEL_667aa2b2191d47aea8d9b7730fd92ef4",
              "IPY_MODEL_293fc5faa18c4472a4f450f1b8cb5797"
            ],
            "layout": "IPY_MODEL_93c6d4be21154995bb7264276aa88bf4"
          }
        },
        "3117117af6a84e50ad28e05889df400e": {
          "model_module": "@jupyter-widgets/controls",
          "model_name": "HTMLModel",
          "model_module_version": "1.5.0",
          "state": {
            "_dom_classes": [],
            "_model_module": "@jupyter-widgets/controls",
            "_model_module_version": "1.5.0",
            "_model_name": "HTMLModel",
            "_view_count": null,
            "_view_module": "@jupyter-widgets/controls",
            "_view_module_version": "1.5.0",
            "_view_name": "HTMLView",
            "description": "",
            "description_tooltip": null,
            "layout": "IPY_MODEL_190a51dda855445a8901868463eeeff6",
            "placeholder": "​",
            "style": "IPY_MODEL_f5da974bbbe54becaa8c9a7b4e86a08b",
            "value": "Generating test examples...:  82%"
          }
        },
        "667aa2b2191d47aea8d9b7730fd92ef4": {
          "model_module": "@jupyter-widgets/controls",
          "model_name": "FloatProgressModel",
          "model_module_version": "1.5.0",
          "state": {
            "_dom_classes": [],
            "_model_module": "@jupyter-widgets/controls",
            "_model_module_version": "1.5.0",
            "_model_name": "FloatProgressModel",
            "_view_count": null,
            "_view_module": "@jupyter-widgets/controls",
            "_view_module_version": "1.5.0",
            "_view_name": "ProgressView",
            "bar_style": "",
            "description": "",
            "description_tooltip": null,
            "layout": "IPY_MODEL_d90eb2ad470c4dfaa43924c4da0b8330",
            "max": 25000,
            "min": 0,
            "orientation": "horizontal",
            "style": "IPY_MODEL_9a2c112ae33b4626a0f675fb6cf2213d",
            "value": 25000
          }
        },
        "293fc5faa18c4472a4f450f1b8cb5797": {
          "model_module": "@jupyter-widgets/controls",
          "model_name": "HTMLModel",
          "model_module_version": "1.5.0",
          "state": {
            "_dom_classes": [],
            "_model_module": "@jupyter-widgets/controls",
            "_model_module_version": "1.5.0",
            "_model_name": "HTMLModel",
            "_view_count": null,
            "_view_module": "@jupyter-widgets/controls",
            "_view_module_version": "1.5.0",
            "_view_name": "HTMLView",
            "description": "",
            "description_tooltip": null,
            "layout": "IPY_MODEL_20e3fcb80407461487344982bf56db96",
            "placeholder": "​",
            "style": "IPY_MODEL_da7112e0b81842579740817ed5913d0e",
            "value": " 20524/25000 [00:04&lt;00:00, 5503.33 examples/s]"
          }
        },
        "93c6d4be21154995bb7264276aa88bf4": {
          "model_module": "@jupyter-widgets/base",
          "model_name": "LayoutModel",
          "model_module_version": "1.2.0",
          "state": {
            "_model_module": "@jupyter-widgets/base",
            "_model_module_version": "1.2.0",
            "_model_name": "LayoutModel",
            "_view_count": null,
            "_view_module": "@jupyter-widgets/base",
            "_view_module_version": "1.2.0",
            "_view_name": "LayoutView",
            "align_content": null,
            "align_items": null,
            "align_self": null,
            "border": null,
            "bottom": null,
            "display": null,
            "flex": null,
            "flex_flow": null,
            "grid_area": null,
            "grid_auto_columns": null,
            "grid_auto_flow": null,
            "grid_auto_rows": null,
            "grid_column": null,
            "grid_gap": null,
            "grid_row": null,
            "grid_template_areas": null,
            "grid_template_columns": null,
            "grid_template_rows": null,
            "height": null,
            "justify_content": null,
            "justify_items": null,
            "left": null,
            "margin": null,
            "max_height": null,
            "max_width": null,
            "min_height": null,
            "min_width": null,
            "object_fit": null,
            "object_position": null,
            "order": null,
            "overflow": null,
            "overflow_x": null,
            "overflow_y": null,
            "padding": null,
            "right": null,
            "top": null,
            "visibility": "hidden",
            "width": null
          }
        },
        "190a51dda855445a8901868463eeeff6": {
          "model_module": "@jupyter-widgets/base",
          "model_name": "LayoutModel",
          "model_module_version": "1.2.0",
          "state": {
            "_model_module": "@jupyter-widgets/base",
            "_model_module_version": "1.2.0",
            "_model_name": "LayoutModel",
            "_view_count": null,
            "_view_module": "@jupyter-widgets/base",
            "_view_module_version": "1.2.0",
            "_view_name": "LayoutView",
            "align_content": null,
            "align_items": null,
            "align_self": null,
            "border": null,
            "bottom": null,
            "display": null,
            "flex": null,
            "flex_flow": null,
            "grid_area": null,
            "grid_auto_columns": null,
            "grid_auto_flow": null,
            "grid_auto_rows": null,
            "grid_column": null,
            "grid_gap": null,
            "grid_row": null,
            "grid_template_areas": null,
            "grid_template_columns": null,
            "grid_template_rows": null,
            "height": null,
            "justify_content": null,
            "justify_items": null,
            "left": null,
            "margin": null,
            "max_height": null,
            "max_width": null,
            "min_height": null,
            "min_width": null,
            "object_fit": null,
            "object_position": null,
            "order": null,
            "overflow": null,
            "overflow_x": null,
            "overflow_y": null,
            "padding": null,
            "right": null,
            "top": null,
            "visibility": null,
            "width": null
          }
        },
        "f5da974bbbe54becaa8c9a7b4e86a08b": {
          "model_module": "@jupyter-widgets/controls",
          "model_name": "DescriptionStyleModel",
          "model_module_version": "1.5.0",
          "state": {
            "_model_module": "@jupyter-widgets/controls",
            "_model_module_version": "1.5.0",
            "_model_name": "DescriptionStyleModel",
            "_view_count": null,
            "_view_module": "@jupyter-widgets/base",
            "_view_module_version": "1.2.0",
            "_view_name": "StyleView",
            "description_width": ""
          }
        },
        "d90eb2ad470c4dfaa43924c4da0b8330": {
          "model_module": "@jupyter-widgets/base",
          "model_name": "LayoutModel",
          "model_module_version": "1.2.0",
          "state": {
            "_model_module": "@jupyter-widgets/base",
            "_model_module_version": "1.2.0",
            "_model_name": "LayoutModel",
            "_view_count": null,
            "_view_module": "@jupyter-widgets/base",
            "_view_module_version": "1.2.0",
            "_view_name": "LayoutView",
            "align_content": null,
            "align_items": null,
            "align_self": null,
            "border": null,
            "bottom": null,
            "display": null,
            "flex": null,
            "flex_flow": null,
            "grid_area": null,
            "grid_auto_columns": null,
            "grid_auto_flow": null,
            "grid_auto_rows": null,
            "grid_column": null,
            "grid_gap": null,
            "grid_row": null,
            "grid_template_areas": null,
            "grid_template_columns": null,
            "grid_template_rows": null,
            "height": null,
            "justify_content": null,
            "justify_items": null,
            "left": null,
            "margin": null,
            "max_height": null,
            "max_width": null,
            "min_height": null,
            "min_width": null,
            "object_fit": null,
            "object_position": null,
            "order": null,
            "overflow": null,
            "overflow_x": null,
            "overflow_y": null,
            "padding": null,
            "right": null,
            "top": null,
            "visibility": null,
            "width": null
          }
        },
        "9a2c112ae33b4626a0f675fb6cf2213d": {
          "model_module": "@jupyter-widgets/controls",
          "model_name": "ProgressStyleModel",
          "model_module_version": "1.5.0",
          "state": {
            "_model_module": "@jupyter-widgets/controls",
            "_model_module_version": "1.5.0",
            "_model_name": "ProgressStyleModel",
            "_view_count": null,
            "_view_module": "@jupyter-widgets/base",
            "_view_module_version": "1.2.0",
            "_view_name": "StyleView",
            "bar_color": null,
            "description_width": ""
          }
        },
        "20e3fcb80407461487344982bf56db96": {
          "model_module": "@jupyter-widgets/base",
          "model_name": "LayoutModel",
          "model_module_version": "1.2.0",
          "state": {
            "_model_module": "@jupyter-widgets/base",
            "_model_module_version": "1.2.0",
            "_model_name": "LayoutModel",
            "_view_count": null,
            "_view_module": "@jupyter-widgets/base",
            "_view_module_version": "1.2.0",
            "_view_name": "LayoutView",
            "align_content": null,
            "align_items": null,
            "align_self": null,
            "border": null,
            "bottom": null,
            "display": null,
            "flex": null,
            "flex_flow": null,
            "grid_area": null,
            "grid_auto_columns": null,
            "grid_auto_flow": null,
            "grid_auto_rows": null,
            "grid_column": null,
            "grid_gap": null,
            "grid_row": null,
            "grid_template_areas": null,
            "grid_template_columns": null,
            "grid_template_rows": null,
            "height": null,
            "justify_content": null,
            "justify_items": null,
            "left": null,
            "margin": null,
            "max_height": null,
            "max_width": null,
            "min_height": null,
            "min_width": null,
            "object_fit": null,
            "object_position": null,
            "order": null,
            "overflow": null,
            "overflow_x": null,
            "overflow_y": null,
            "padding": null,
            "right": null,
            "top": null,
            "visibility": null,
            "width": null
          }
        },
        "da7112e0b81842579740817ed5913d0e": {
          "model_module": "@jupyter-widgets/controls",
          "model_name": "DescriptionStyleModel",
          "model_module_version": "1.5.0",
          "state": {
            "_model_module": "@jupyter-widgets/controls",
            "_model_module_version": "1.5.0",
            "_model_name": "DescriptionStyleModel",
            "_view_count": null,
            "_view_module": "@jupyter-widgets/base",
            "_view_module_version": "1.2.0",
            "_view_name": "StyleView",
            "description_width": ""
          }
        },
        "293977f111c048c1ba4d2f5f28a4a3ae": {
          "model_module": "@jupyter-widgets/controls",
          "model_name": "HBoxModel",
          "model_module_version": "1.5.0",
          "state": {
            "_dom_classes": [],
            "_model_module": "@jupyter-widgets/controls",
            "_model_module_version": "1.5.0",
            "_model_name": "HBoxModel",
            "_view_count": null,
            "_view_module": "@jupyter-widgets/controls",
            "_view_module_version": "1.5.0",
            "_view_name": "HBoxView",
            "box_style": "",
            "children": [
              "IPY_MODEL_6f4ebd41753f4316892efe587fd35298",
              "IPY_MODEL_bee9636463fb49cd84b90604c75462b7",
              "IPY_MODEL_6c1d952852a446e1baa7ced1845a7c09"
            ],
            "layout": "IPY_MODEL_41bc774557914ef2b79919ec294e8050"
          }
        },
        "6f4ebd41753f4316892efe587fd35298": {
          "model_module": "@jupyter-widgets/controls",
          "model_name": "HTMLModel",
          "model_module_version": "1.5.0",
          "state": {
            "_dom_classes": [],
            "_model_module": "@jupyter-widgets/controls",
            "_model_module_version": "1.5.0",
            "_model_name": "HTMLModel",
            "_view_count": null,
            "_view_module": "@jupyter-widgets/controls",
            "_view_module_version": "1.5.0",
            "_view_name": "HTMLView",
            "description": "",
            "description_tooltip": null,
            "layout": "IPY_MODEL_3c5de6fd21b040be8a074fbcf9486eb2",
            "placeholder": "​",
            "style": "IPY_MODEL_bd5fc20629ab4883a1863ae3a4ddd1a3",
            "value": "Shuffling /root/tensorflow_datasets/imdb_reviews/plain_text/1.0.0.incompleteQ429A6/imdb_reviews-test.tfrecord*...:  64%"
          }
        },
        "bee9636463fb49cd84b90604c75462b7": {
          "model_module": "@jupyter-widgets/controls",
          "model_name": "FloatProgressModel",
          "model_module_version": "1.5.0",
          "state": {
            "_dom_classes": [],
            "_model_module": "@jupyter-widgets/controls",
            "_model_module_version": "1.5.0",
            "_model_name": "FloatProgressModel",
            "_view_count": null,
            "_view_module": "@jupyter-widgets/controls",
            "_view_module_version": "1.5.0",
            "_view_name": "ProgressView",
            "bar_style": "",
            "description": "",
            "description_tooltip": null,
            "layout": "IPY_MODEL_133bad0717484ab086e1da025f42e2d6",
            "max": 25000,
            "min": 0,
            "orientation": "horizontal",
            "style": "IPY_MODEL_9da734d7c9ac492bb1198738e0513738",
            "value": 25000
          }
        },
        "6c1d952852a446e1baa7ced1845a7c09": {
          "model_module": "@jupyter-widgets/controls",
          "model_name": "HTMLModel",
          "model_module_version": "1.5.0",
          "state": {
            "_dom_classes": [],
            "_model_module": "@jupyter-widgets/controls",
            "_model_module_version": "1.5.0",
            "_model_name": "HTMLModel",
            "_view_count": null,
            "_view_module": "@jupyter-widgets/controls",
            "_view_module_version": "1.5.0",
            "_view_name": "HTMLView",
            "description": "",
            "description_tooltip": null,
            "layout": "IPY_MODEL_77711ca3c6a84671b5842881c55e6606",
            "placeholder": "​",
            "style": "IPY_MODEL_ad472cdea6fd478abbb3174c981cefb4",
            "value": " 16108/25000 [00:00&lt;00:00, 161062.49 examples/s]"
          }
        },
        "41bc774557914ef2b79919ec294e8050": {
          "model_module": "@jupyter-widgets/base",
          "model_name": "LayoutModel",
          "model_module_version": "1.2.0",
          "state": {
            "_model_module": "@jupyter-widgets/base",
            "_model_module_version": "1.2.0",
            "_model_name": "LayoutModel",
            "_view_count": null,
            "_view_module": "@jupyter-widgets/base",
            "_view_module_version": "1.2.0",
            "_view_name": "LayoutView",
            "align_content": null,
            "align_items": null,
            "align_self": null,
            "border": null,
            "bottom": null,
            "display": null,
            "flex": null,
            "flex_flow": null,
            "grid_area": null,
            "grid_auto_columns": null,
            "grid_auto_flow": null,
            "grid_auto_rows": null,
            "grid_column": null,
            "grid_gap": null,
            "grid_row": null,
            "grid_template_areas": null,
            "grid_template_columns": null,
            "grid_template_rows": null,
            "height": null,
            "justify_content": null,
            "justify_items": null,
            "left": null,
            "margin": null,
            "max_height": null,
            "max_width": null,
            "min_height": null,
            "min_width": null,
            "object_fit": null,
            "object_position": null,
            "order": null,
            "overflow": null,
            "overflow_x": null,
            "overflow_y": null,
            "padding": null,
            "right": null,
            "top": null,
            "visibility": "hidden",
            "width": null
          }
        },
        "3c5de6fd21b040be8a074fbcf9486eb2": {
          "model_module": "@jupyter-widgets/base",
          "model_name": "LayoutModel",
          "model_module_version": "1.2.0",
          "state": {
            "_model_module": "@jupyter-widgets/base",
            "_model_module_version": "1.2.0",
            "_model_name": "LayoutModel",
            "_view_count": null,
            "_view_module": "@jupyter-widgets/base",
            "_view_module_version": "1.2.0",
            "_view_name": "LayoutView",
            "align_content": null,
            "align_items": null,
            "align_self": null,
            "border": null,
            "bottom": null,
            "display": null,
            "flex": null,
            "flex_flow": null,
            "grid_area": null,
            "grid_auto_columns": null,
            "grid_auto_flow": null,
            "grid_auto_rows": null,
            "grid_column": null,
            "grid_gap": null,
            "grid_row": null,
            "grid_template_areas": null,
            "grid_template_columns": null,
            "grid_template_rows": null,
            "height": null,
            "justify_content": null,
            "justify_items": null,
            "left": null,
            "margin": null,
            "max_height": null,
            "max_width": null,
            "min_height": null,
            "min_width": null,
            "object_fit": null,
            "object_position": null,
            "order": null,
            "overflow": null,
            "overflow_x": null,
            "overflow_y": null,
            "padding": null,
            "right": null,
            "top": null,
            "visibility": null,
            "width": null
          }
        },
        "bd5fc20629ab4883a1863ae3a4ddd1a3": {
          "model_module": "@jupyter-widgets/controls",
          "model_name": "DescriptionStyleModel",
          "model_module_version": "1.5.0",
          "state": {
            "_model_module": "@jupyter-widgets/controls",
            "_model_module_version": "1.5.0",
            "_model_name": "DescriptionStyleModel",
            "_view_count": null,
            "_view_module": "@jupyter-widgets/base",
            "_view_module_version": "1.2.0",
            "_view_name": "StyleView",
            "description_width": ""
          }
        },
        "133bad0717484ab086e1da025f42e2d6": {
          "model_module": "@jupyter-widgets/base",
          "model_name": "LayoutModel",
          "model_module_version": "1.2.0",
          "state": {
            "_model_module": "@jupyter-widgets/base",
            "_model_module_version": "1.2.0",
            "_model_name": "LayoutModel",
            "_view_count": null,
            "_view_module": "@jupyter-widgets/base",
            "_view_module_version": "1.2.0",
            "_view_name": "LayoutView",
            "align_content": null,
            "align_items": null,
            "align_self": null,
            "border": null,
            "bottom": null,
            "display": null,
            "flex": null,
            "flex_flow": null,
            "grid_area": null,
            "grid_auto_columns": null,
            "grid_auto_flow": null,
            "grid_auto_rows": null,
            "grid_column": null,
            "grid_gap": null,
            "grid_row": null,
            "grid_template_areas": null,
            "grid_template_columns": null,
            "grid_template_rows": null,
            "height": null,
            "justify_content": null,
            "justify_items": null,
            "left": null,
            "margin": null,
            "max_height": null,
            "max_width": null,
            "min_height": null,
            "min_width": null,
            "object_fit": null,
            "object_position": null,
            "order": null,
            "overflow": null,
            "overflow_x": null,
            "overflow_y": null,
            "padding": null,
            "right": null,
            "top": null,
            "visibility": null,
            "width": null
          }
        },
        "9da734d7c9ac492bb1198738e0513738": {
          "model_module": "@jupyter-widgets/controls",
          "model_name": "ProgressStyleModel",
          "model_module_version": "1.5.0",
          "state": {
            "_model_module": "@jupyter-widgets/controls",
            "_model_module_version": "1.5.0",
            "_model_name": "ProgressStyleModel",
            "_view_count": null,
            "_view_module": "@jupyter-widgets/base",
            "_view_module_version": "1.2.0",
            "_view_name": "StyleView",
            "bar_color": null,
            "description_width": ""
          }
        },
        "77711ca3c6a84671b5842881c55e6606": {
          "model_module": "@jupyter-widgets/base",
          "model_name": "LayoutModel",
          "model_module_version": "1.2.0",
          "state": {
            "_model_module": "@jupyter-widgets/base",
            "_model_module_version": "1.2.0",
            "_model_name": "LayoutModel",
            "_view_count": null,
            "_view_module": "@jupyter-widgets/base",
            "_view_module_version": "1.2.0",
            "_view_name": "LayoutView",
            "align_content": null,
            "align_items": null,
            "align_self": null,
            "border": null,
            "bottom": null,
            "display": null,
            "flex": null,
            "flex_flow": null,
            "grid_area": null,
            "grid_auto_columns": null,
            "grid_auto_flow": null,
            "grid_auto_rows": null,
            "grid_column": null,
            "grid_gap": null,
            "grid_row": null,
            "grid_template_areas": null,
            "grid_template_columns": null,
            "grid_template_rows": null,
            "height": null,
            "justify_content": null,
            "justify_items": null,
            "left": null,
            "margin": null,
            "max_height": null,
            "max_width": null,
            "min_height": null,
            "min_width": null,
            "object_fit": null,
            "object_position": null,
            "order": null,
            "overflow": null,
            "overflow_x": null,
            "overflow_y": null,
            "padding": null,
            "right": null,
            "top": null,
            "visibility": null,
            "width": null
          }
        },
        "ad472cdea6fd478abbb3174c981cefb4": {
          "model_module": "@jupyter-widgets/controls",
          "model_name": "DescriptionStyleModel",
          "model_module_version": "1.5.0",
          "state": {
            "_model_module": "@jupyter-widgets/controls",
            "_model_module_version": "1.5.0",
            "_model_name": "DescriptionStyleModel",
            "_view_count": null,
            "_view_module": "@jupyter-widgets/base",
            "_view_module_version": "1.2.0",
            "_view_name": "StyleView",
            "description_width": ""
          }
        },
        "613aea76c2c0451093d5ee2875dbfeb0": {
          "model_module": "@jupyter-widgets/controls",
          "model_name": "HBoxModel",
          "model_module_version": "1.5.0",
          "state": {
            "_dom_classes": [],
            "_model_module": "@jupyter-widgets/controls",
            "_model_module_version": "1.5.0",
            "_model_name": "HBoxModel",
            "_view_count": null,
            "_view_module": "@jupyter-widgets/controls",
            "_view_module_version": "1.5.0",
            "_view_name": "HBoxView",
            "box_style": "",
            "children": [
              "IPY_MODEL_0d10f18f46ab483094c24f3562b6baa6",
              "IPY_MODEL_1345bc96c5504a96acbeb8017f25b108",
              "IPY_MODEL_94888dc678d74977b139a753ec13d42c"
            ],
            "layout": "IPY_MODEL_defe8beb4ed34f7498e0c1d3649a3483"
          }
        },
        "0d10f18f46ab483094c24f3562b6baa6": {
          "model_module": "@jupyter-widgets/controls",
          "model_name": "HTMLModel",
          "model_module_version": "1.5.0",
          "state": {
            "_dom_classes": [],
            "_model_module": "@jupyter-widgets/controls",
            "_model_module_version": "1.5.0",
            "_model_name": "HTMLModel",
            "_view_count": null,
            "_view_module": "@jupyter-widgets/controls",
            "_view_module_version": "1.5.0",
            "_view_name": "HTMLView",
            "description": "",
            "description_tooltip": null,
            "layout": "IPY_MODEL_58314dcd56cf4a318113e5436e7831c1",
            "placeholder": "​",
            "style": "IPY_MODEL_2719761abc2743cb8065f21777ad9fc9",
            "value": "Generating unsupervised examples...:  99%"
          }
        },
        "1345bc96c5504a96acbeb8017f25b108": {
          "model_module": "@jupyter-widgets/controls",
          "model_name": "FloatProgressModel",
          "model_module_version": "1.5.0",
          "state": {
            "_dom_classes": [],
            "_model_module": "@jupyter-widgets/controls",
            "_model_module_version": "1.5.0",
            "_model_name": "FloatProgressModel",
            "_view_count": null,
            "_view_module": "@jupyter-widgets/controls",
            "_view_module_version": "1.5.0",
            "_view_name": "ProgressView",
            "bar_style": "",
            "description": "",
            "description_tooltip": null,
            "layout": "IPY_MODEL_3ba10d719a4649d5bbde85bd4fd8dc9d",
            "max": 50000,
            "min": 0,
            "orientation": "horizontal",
            "style": "IPY_MODEL_04a11fc063dd47b8bf5f6a8050cb8ae2",
            "value": 50000
          }
        },
        "94888dc678d74977b139a753ec13d42c": {
          "model_module": "@jupyter-widgets/controls",
          "model_name": "HTMLModel",
          "model_module_version": "1.5.0",
          "state": {
            "_dom_classes": [],
            "_model_module": "@jupyter-widgets/controls",
            "_model_module_version": "1.5.0",
            "_model_name": "HTMLModel",
            "_view_count": null,
            "_view_module": "@jupyter-widgets/controls",
            "_view_module_version": "1.5.0",
            "_view_name": "HTMLView",
            "description": "",
            "description_tooltip": null,
            "layout": "IPY_MODEL_304da3b271b446c9b59950035ea9e0e6",
            "placeholder": "​",
            "style": "IPY_MODEL_f21c74db86104727ab5fb6a410da4e2f",
            "value": " 49429/50000 [00:12&lt;00:00, 4860.97 examples/s]"
          }
        },
        "defe8beb4ed34f7498e0c1d3649a3483": {
          "model_module": "@jupyter-widgets/base",
          "model_name": "LayoutModel",
          "model_module_version": "1.2.0",
          "state": {
            "_model_module": "@jupyter-widgets/base",
            "_model_module_version": "1.2.0",
            "_model_name": "LayoutModel",
            "_view_count": null,
            "_view_module": "@jupyter-widgets/base",
            "_view_module_version": "1.2.0",
            "_view_name": "LayoutView",
            "align_content": null,
            "align_items": null,
            "align_self": null,
            "border": null,
            "bottom": null,
            "display": null,
            "flex": null,
            "flex_flow": null,
            "grid_area": null,
            "grid_auto_columns": null,
            "grid_auto_flow": null,
            "grid_auto_rows": null,
            "grid_column": null,
            "grid_gap": null,
            "grid_row": null,
            "grid_template_areas": null,
            "grid_template_columns": null,
            "grid_template_rows": null,
            "height": null,
            "justify_content": null,
            "justify_items": null,
            "left": null,
            "margin": null,
            "max_height": null,
            "max_width": null,
            "min_height": null,
            "min_width": null,
            "object_fit": null,
            "object_position": null,
            "order": null,
            "overflow": null,
            "overflow_x": null,
            "overflow_y": null,
            "padding": null,
            "right": null,
            "top": null,
            "visibility": "hidden",
            "width": null
          }
        },
        "58314dcd56cf4a318113e5436e7831c1": {
          "model_module": "@jupyter-widgets/base",
          "model_name": "LayoutModel",
          "model_module_version": "1.2.0",
          "state": {
            "_model_module": "@jupyter-widgets/base",
            "_model_module_version": "1.2.0",
            "_model_name": "LayoutModel",
            "_view_count": null,
            "_view_module": "@jupyter-widgets/base",
            "_view_module_version": "1.2.0",
            "_view_name": "LayoutView",
            "align_content": null,
            "align_items": null,
            "align_self": null,
            "border": null,
            "bottom": null,
            "display": null,
            "flex": null,
            "flex_flow": null,
            "grid_area": null,
            "grid_auto_columns": null,
            "grid_auto_flow": null,
            "grid_auto_rows": null,
            "grid_column": null,
            "grid_gap": null,
            "grid_row": null,
            "grid_template_areas": null,
            "grid_template_columns": null,
            "grid_template_rows": null,
            "height": null,
            "justify_content": null,
            "justify_items": null,
            "left": null,
            "margin": null,
            "max_height": null,
            "max_width": null,
            "min_height": null,
            "min_width": null,
            "object_fit": null,
            "object_position": null,
            "order": null,
            "overflow": null,
            "overflow_x": null,
            "overflow_y": null,
            "padding": null,
            "right": null,
            "top": null,
            "visibility": null,
            "width": null
          }
        },
        "2719761abc2743cb8065f21777ad9fc9": {
          "model_module": "@jupyter-widgets/controls",
          "model_name": "DescriptionStyleModel",
          "model_module_version": "1.5.0",
          "state": {
            "_model_module": "@jupyter-widgets/controls",
            "_model_module_version": "1.5.0",
            "_model_name": "DescriptionStyleModel",
            "_view_count": null,
            "_view_module": "@jupyter-widgets/base",
            "_view_module_version": "1.2.0",
            "_view_name": "StyleView",
            "description_width": ""
          }
        },
        "3ba10d719a4649d5bbde85bd4fd8dc9d": {
          "model_module": "@jupyter-widgets/base",
          "model_name": "LayoutModel",
          "model_module_version": "1.2.0",
          "state": {
            "_model_module": "@jupyter-widgets/base",
            "_model_module_version": "1.2.0",
            "_model_name": "LayoutModel",
            "_view_count": null,
            "_view_module": "@jupyter-widgets/base",
            "_view_module_version": "1.2.0",
            "_view_name": "LayoutView",
            "align_content": null,
            "align_items": null,
            "align_self": null,
            "border": null,
            "bottom": null,
            "display": null,
            "flex": null,
            "flex_flow": null,
            "grid_area": null,
            "grid_auto_columns": null,
            "grid_auto_flow": null,
            "grid_auto_rows": null,
            "grid_column": null,
            "grid_gap": null,
            "grid_row": null,
            "grid_template_areas": null,
            "grid_template_columns": null,
            "grid_template_rows": null,
            "height": null,
            "justify_content": null,
            "justify_items": null,
            "left": null,
            "margin": null,
            "max_height": null,
            "max_width": null,
            "min_height": null,
            "min_width": null,
            "object_fit": null,
            "object_position": null,
            "order": null,
            "overflow": null,
            "overflow_x": null,
            "overflow_y": null,
            "padding": null,
            "right": null,
            "top": null,
            "visibility": null,
            "width": null
          }
        },
        "04a11fc063dd47b8bf5f6a8050cb8ae2": {
          "model_module": "@jupyter-widgets/controls",
          "model_name": "ProgressStyleModel",
          "model_module_version": "1.5.0",
          "state": {
            "_model_module": "@jupyter-widgets/controls",
            "_model_module_version": "1.5.0",
            "_model_name": "ProgressStyleModel",
            "_view_count": null,
            "_view_module": "@jupyter-widgets/base",
            "_view_module_version": "1.2.0",
            "_view_name": "StyleView",
            "bar_color": null,
            "description_width": ""
          }
        },
        "304da3b271b446c9b59950035ea9e0e6": {
          "model_module": "@jupyter-widgets/base",
          "model_name": "LayoutModel",
          "model_module_version": "1.2.0",
          "state": {
            "_model_module": "@jupyter-widgets/base",
            "_model_module_version": "1.2.0",
            "_model_name": "LayoutModel",
            "_view_count": null,
            "_view_module": "@jupyter-widgets/base",
            "_view_module_version": "1.2.0",
            "_view_name": "LayoutView",
            "align_content": null,
            "align_items": null,
            "align_self": null,
            "border": null,
            "bottom": null,
            "display": null,
            "flex": null,
            "flex_flow": null,
            "grid_area": null,
            "grid_auto_columns": null,
            "grid_auto_flow": null,
            "grid_auto_rows": null,
            "grid_column": null,
            "grid_gap": null,
            "grid_row": null,
            "grid_template_areas": null,
            "grid_template_columns": null,
            "grid_template_rows": null,
            "height": null,
            "justify_content": null,
            "justify_items": null,
            "left": null,
            "margin": null,
            "max_height": null,
            "max_width": null,
            "min_height": null,
            "min_width": null,
            "object_fit": null,
            "object_position": null,
            "order": null,
            "overflow": null,
            "overflow_x": null,
            "overflow_y": null,
            "padding": null,
            "right": null,
            "top": null,
            "visibility": null,
            "width": null
          }
        },
        "f21c74db86104727ab5fb6a410da4e2f": {
          "model_module": "@jupyter-widgets/controls",
          "model_name": "DescriptionStyleModel",
          "model_module_version": "1.5.0",
          "state": {
            "_model_module": "@jupyter-widgets/controls",
            "_model_module_version": "1.5.0",
            "_model_name": "DescriptionStyleModel",
            "_view_count": null,
            "_view_module": "@jupyter-widgets/base",
            "_view_module_version": "1.2.0",
            "_view_name": "StyleView",
            "description_width": ""
          }
        },
        "1f0f42c91b9645b2b7aa9f6f92d32df9": {
          "model_module": "@jupyter-widgets/controls",
          "model_name": "HBoxModel",
          "model_module_version": "1.5.0",
          "state": {
            "_dom_classes": [],
            "_model_module": "@jupyter-widgets/controls",
            "_model_module_version": "1.5.0",
            "_model_name": "HBoxModel",
            "_view_count": null,
            "_view_module": "@jupyter-widgets/controls",
            "_view_module_version": "1.5.0",
            "_view_name": "HBoxView",
            "box_style": "",
            "children": [
              "IPY_MODEL_8ef311455520421cb7bf88c9699b1ffd",
              "IPY_MODEL_a7e0ab52978848bfba4e68c9de882b61",
              "IPY_MODEL_5cea3728f9aa4270b2d857a87068e778"
            ],
            "layout": "IPY_MODEL_50c5a41710b24910842f7c41a7219b78"
          }
        },
        "8ef311455520421cb7bf88c9699b1ffd": {
          "model_module": "@jupyter-widgets/controls",
          "model_name": "HTMLModel",
          "model_module_version": "1.5.0",
          "state": {
            "_dom_classes": [],
            "_model_module": "@jupyter-widgets/controls",
            "_model_module_version": "1.5.0",
            "_model_name": "HTMLModel",
            "_view_count": null,
            "_view_module": "@jupyter-widgets/controls",
            "_view_module_version": "1.5.0",
            "_view_name": "HTMLView",
            "description": "",
            "description_tooltip": null,
            "layout": "IPY_MODEL_49753888221f46c798164c5a5b04d64d",
            "placeholder": "​",
            "style": "IPY_MODEL_a72a5ae4ba78446897d445538c8565c4",
            "value": "Shuffling /root/tensorflow_datasets/imdb_reviews/plain_text/1.0.0.incompleteQ429A6/imdb_reviews-unsupervised.tfrecord*...:  63%"
          }
        },
        "a7e0ab52978848bfba4e68c9de882b61": {
          "model_module": "@jupyter-widgets/controls",
          "model_name": "FloatProgressModel",
          "model_module_version": "1.5.0",
          "state": {
            "_dom_classes": [],
            "_model_module": "@jupyter-widgets/controls",
            "_model_module_version": "1.5.0",
            "_model_name": "FloatProgressModel",
            "_view_count": null,
            "_view_module": "@jupyter-widgets/controls",
            "_view_module_version": "1.5.0",
            "_view_name": "ProgressView",
            "bar_style": "",
            "description": "",
            "description_tooltip": null,
            "layout": "IPY_MODEL_b2e8b0b3be2240dfb0d17eeb8bb04c1d",
            "max": 50000,
            "min": 0,
            "orientation": "horizontal",
            "style": "IPY_MODEL_bb96256a8d6e4ca389e1edbfb6b9f315",
            "value": 50000
          }
        },
        "5cea3728f9aa4270b2d857a87068e778": {
          "model_module": "@jupyter-widgets/controls",
          "model_name": "HTMLModel",
          "model_module_version": "1.5.0",
          "state": {
            "_dom_classes": [],
            "_model_module": "@jupyter-widgets/controls",
            "_model_module_version": "1.5.0",
            "_model_name": "HTMLModel",
            "_view_count": null,
            "_view_module": "@jupyter-widgets/controls",
            "_view_module_version": "1.5.0",
            "_view_name": "HTMLView",
            "description": "",
            "description_tooltip": null,
            "layout": "IPY_MODEL_db9a8232c58f493c8cd99cfce7b13d07",
            "placeholder": "​",
            "style": "IPY_MODEL_8fef7dba148c44cdb353a9e29b002e96",
            "value": " 31395/50000 [00:00&lt;00:00, 176712.82 examples/s]"
          }
        },
        "50c5a41710b24910842f7c41a7219b78": {
          "model_module": "@jupyter-widgets/base",
          "model_name": "LayoutModel",
          "model_module_version": "1.2.0",
          "state": {
            "_model_module": "@jupyter-widgets/base",
            "_model_module_version": "1.2.0",
            "_model_name": "LayoutModel",
            "_view_count": null,
            "_view_module": "@jupyter-widgets/base",
            "_view_module_version": "1.2.0",
            "_view_name": "LayoutView",
            "align_content": null,
            "align_items": null,
            "align_self": null,
            "border": null,
            "bottom": null,
            "display": null,
            "flex": null,
            "flex_flow": null,
            "grid_area": null,
            "grid_auto_columns": null,
            "grid_auto_flow": null,
            "grid_auto_rows": null,
            "grid_column": null,
            "grid_gap": null,
            "grid_row": null,
            "grid_template_areas": null,
            "grid_template_columns": null,
            "grid_template_rows": null,
            "height": null,
            "justify_content": null,
            "justify_items": null,
            "left": null,
            "margin": null,
            "max_height": null,
            "max_width": null,
            "min_height": null,
            "min_width": null,
            "object_fit": null,
            "object_position": null,
            "order": null,
            "overflow": null,
            "overflow_x": null,
            "overflow_y": null,
            "padding": null,
            "right": null,
            "top": null,
            "visibility": "hidden",
            "width": null
          }
        },
        "49753888221f46c798164c5a5b04d64d": {
          "model_module": "@jupyter-widgets/base",
          "model_name": "LayoutModel",
          "model_module_version": "1.2.0",
          "state": {
            "_model_module": "@jupyter-widgets/base",
            "_model_module_version": "1.2.0",
            "_model_name": "LayoutModel",
            "_view_count": null,
            "_view_module": "@jupyter-widgets/base",
            "_view_module_version": "1.2.0",
            "_view_name": "LayoutView",
            "align_content": null,
            "align_items": null,
            "align_self": null,
            "border": null,
            "bottom": null,
            "display": null,
            "flex": null,
            "flex_flow": null,
            "grid_area": null,
            "grid_auto_columns": null,
            "grid_auto_flow": null,
            "grid_auto_rows": null,
            "grid_column": null,
            "grid_gap": null,
            "grid_row": null,
            "grid_template_areas": null,
            "grid_template_columns": null,
            "grid_template_rows": null,
            "height": null,
            "justify_content": null,
            "justify_items": null,
            "left": null,
            "margin": null,
            "max_height": null,
            "max_width": null,
            "min_height": null,
            "min_width": null,
            "object_fit": null,
            "object_position": null,
            "order": null,
            "overflow": null,
            "overflow_x": null,
            "overflow_y": null,
            "padding": null,
            "right": null,
            "top": null,
            "visibility": null,
            "width": null
          }
        },
        "a72a5ae4ba78446897d445538c8565c4": {
          "model_module": "@jupyter-widgets/controls",
          "model_name": "DescriptionStyleModel",
          "model_module_version": "1.5.0",
          "state": {
            "_model_module": "@jupyter-widgets/controls",
            "_model_module_version": "1.5.0",
            "_model_name": "DescriptionStyleModel",
            "_view_count": null,
            "_view_module": "@jupyter-widgets/base",
            "_view_module_version": "1.2.0",
            "_view_name": "StyleView",
            "description_width": ""
          }
        },
        "b2e8b0b3be2240dfb0d17eeb8bb04c1d": {
          "model_module": "@jupyter-widgets/base",
          "model_name": "LayoutModel",
          "model_module_version": "1.2.0",
          "state": {
            "_model_module": "@jupyter-widgets/base",
            "_model_module_version": "1.2.0",
            "_model_name": "LayoutModel",
            "_view_count": null,
            "_view_module": "@jupyter-widgets/base",
            "_view_module_version": "1.2.0",
            "_view_name": "LayoutView",
            "align_content": null,
            "align_items": null,
            "align_self": null,
            "border": null,
            "bottom": null,
            "display": null,
            "flex": null,
            "flex_flow": null,
            "grid_area": null,
            "grid_auto_columns": null,
            "grid_auto_flow": null,
            "grid_auto_rows": null,
            "grid_column": null,
            "grid_gap": null,
            "grid_row": null,
            "grid_template_areas": null,
            "grid_template_columns": null,
            "grid_template_rows": null,
            "height": null,
            "justify_content": null,
            "justify_items": null,
            "left": null,
            "margin": null,
            "max_height": null,
            "max_width": null,
            "min_height": null,
            "min_width": null,
            "object_fit": null,
            "object_position": null,
            "order": null,
            "overflow": null,
            "overflow_x": null,
            "overflow_y": null,
            "padding": null,
            "right": null,
            "top": null,
            "visibility": null,
            "width": null
          }
        },
        "bb96256a8d6e4ca389e1edbfb6b9f315": {
          "model_module": "@jupyter-widgets/controls",
          "model_name": "ProgressStyleModel",
          "model_module_version": "1.5.0",
          "state": {
            "_model_module": "@jupyter-widgets/controls",
            "_model_module_version": "1.5.0",
            "_model_name": "ProgressStyleModel",
            "_view_count": null,
            "_view_module": "@jupyter-widgets/base",
            "_view_module_version": "1.2.0",
            "_view_name": "StyleView",
            "bar_color": null,
            "description_width": ""
          }
        },
        "db9a8232c58f493c8cd99cfce7b13d07": {
          "model_module": "@jupyter-widgets/base",
          "model_name": "LayoutModel",
          "model_module_version": "1.2.0",
          "state": {
            "_model_module": "@jupyter-widgets/base",
            "_model_module_version": "1.2.0",
            "_model_name": "LayoutModel",
            "_view_count": null,
            "_view_module": "@jupyter-widgets/base",
            "_view_module_version": "1.2.0",
            "_view_name": "LayoutView",
            "align_content": null,
            "align_items": null,
            "align_self": null,
            "border": null,
            "bottom": null,
            "display": null,
            "flex": null,
            "flex_flow": null,
            "grid_area": null,
            "grid_auto_columns": null,
            "grid_auto_flow": null,
            "grid_auto_rows": null,
            "grid_column": null,
            "grid_gap": null,
            "grid_row": null,
            "grid_template_areas": null,
            "grid_template_columns": null,
            "grid_template_rows": null,
            "height": null,
            "justify_content": null,
            "justify_items": null,
            "left": null,
            "margin": null,
            "max_height": null,
            "max_width": null,
            "min_height": null,
            "min_width": null,
            "object_fit": null,
            "object_position": null,
            "order": null,
            "overflow": null,
            "overflow_x": null,
            "overflow_y": null,
            "padding": null,
            "right": null,
            "top": null,
            "visibility": null,
            "width": null
          }
        },
        "8fef7dba148c44cdb353a9e29b002e96": {
          "model_module": "@jupyter-widgets/controls",
          "model_name": "DescriptionStyleModel",
          "model_module_version": "1.5.0",
          "state": {
            "_model_module": "@jupyter-widgets/controls",
            "_model_module_version": "1.5.0",
            "_model_name": "DescriptionStyleModel",
            "_view_count": null,
            "_view_module": "@jupyter-widgets/base",
            "_view_module_version": "1.2.0",
            "_view_name": "StyleView",
            "description_width": ""
          }
        }
      }
    }
  },
  "nbformat": 4,
  "nbformat_minor": 5
}