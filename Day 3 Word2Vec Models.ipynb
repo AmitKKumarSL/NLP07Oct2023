{
 "cells": [
  {
   "cell_type": "code",
   "execution_count": null,
   "id": "11a926b8",
   "metadata": {},
   "outputs": [],
   "source": [
    "#!pip install gensim"
   ]
  },
  {
   "cell_type": "code",
   "execution_count": 1,
   "id": "035f61bc",
   "metadata": {},
   "outputs": [],
   "source": [
    "import gzip\n",
    "import gensim\n",
    "\n",
    "import warnings\n",
    "warnings.filterwarnings('ignore')"
   ]
  },
  {
   "cell_type": "code",
   "execution_count": 2,
   "id": "2977b672",
   "metadata": {},
   "outputs": [],
   "source": [
    "fname = 'reviews_data.txt.gz'"
   ]
  },
  {
   "cell_type": "code",
   "execution_count": 3,
   "id": "9cb58a4f",
   "metadata": {},
   "outputs": [
    {
     "name": "stdout",
     "output_type": "stream",
     "text": [
      "b\"Oct 12 2009 \\tNice trendy hotel location not too bad.\\tI stayed in this hotel for one night. As this is a fairly new place some of the taxi drivers did not know where it was and/or did not want to drive there. Once I have eventually arrived at the hotel, I was very pleasantly surprised with the decor of the lobby/ground floor area. It was very stylish and modern. I found the reception's staff geeting me with 'Aloha' a bit out of place, but I guess they are briefed to say that to keep up the coroporate image.As I have a Starwood Preferred Guest member, I was given a small gift upon-check in. It was only a couple of fridge magnets in a gift box, but nevertheless a nice gesture.My room was nice and roomy, there are tea and coffee facilities in each room and you get two complimentary bottles of water plus some toiletries by 'bliss'.The location is not great. It is at the last metro stop and you then need to take a taxi, but if you are not planning on going to see the historic sites in Beijing, then you will be ok.I chose to have some breakfast in the hotel, which was really tasty and there was a good selection of dishes. There are a couple of computers to use in the communal area, as well as a pool table. There is also a small swimming pool and a gym area.I would definitely stay in this hotel again, but only if I did not plan to travel to central Beijing, as it can take a long time. The location is ok if you plan to do a lot of shopping, as there is a big shopping centre just few minutes away from the hotel and there are plenty of eating options around, including restaurants that serve a dog meat!\\t\\r\\n\"\n"
     ]
    }
   ],
   "source": [
    "with gzip.open(fname,'r') as file:\n",
    "    for i, line in enumerate(file):\n",
    "        print(line)\n",
    "        break"
   ]
  },
  {
   "cell_type": "code",
   "execution_count": 4,
   "id": "cba81453",
   "metadata": {},
   "outputs": [],
   "source": [
    "def read_data(file):\n",
    "    with gzip.open(fname, 'rb') as f:\n",
    "        for i, line in enumerate(f):\n",
    "            yield gensim.utils.simple_preprocess(line)\n",
    "\n",
    "doc = list(read_data(fname))"
   ]
  },
  {
   "cell_type": "code",
   "execution_count": 5,
   "id": "533ec71f",
   "metadata": {},
   "outputs": [],
   "source": [
    "model = gensim.models.Word2Vec(doc, \n",
    "                               #sg=1, \n",
    "                               vector_size=100, \n",
    "                               window=5, \n",
    "                               min_count=1, \n",
    "                               workers=4)"
   ]
  },
  {
   "cell_type": "code",
   "execution_count": 6,
   "id": "d925b867",
   "metadata": {},
   "outputs": [
    {
     "data": {
      "text/plain": [
       "(304381584, 415193590)"
      ]
     },
     "execution_count": 6,
     "metadata": {},
     "output_type": "execute_result"
    }
   ],
   "source": [
    "model.train(doc,total_examples=len(doc),epochs=10)"
   ]
  },
  {
   "cell_type": "code",
   "execution_count": 7,
   "id": "0b83d961",
   "metadata": {},
   "outputs": [
    {
     "data": {
      "text/plain": [
       "[('pleased', 0.8312320709228516),\n",
       " ('satisfied', 0.7901332378387451),\n",
       " ('delighted', 0.7236371040344238),\n",
       " ('thrilled', 0.7179160714149475),\n",
       " ('impressed', 0.6783857345581055),\n",
       " ('disappointed', 0.6373205780982971),\n",
       " ('dissapointed', 0.6033592820167542),\n",
       " ('grateful', 0.5982944965362549),\n",
       " ('dissatisfied', 0.5867384076118469),\n",
       " ('unhappy', 0.5747698545455933)]"
      ]
     },
     "execution_count": 7,
     "metadata": {},
     "output_type": "execute_result"
    }
   ],
   "source": [
    "w1 = \"happy\"\n",
    "model.wv.most_similar(positive=w1)"
   ]
  },
  {
   "cell_type": "code",
   "execution_count": 8,
   "id": "f81b8e0d",
   "metadata": {},
   "outputs": [
    {
     "data": {
      "text/plain": [
       "[('terrible', 0.6959733366966248),\n",
       " ('horrible', 0.6429391503334045),\n",
       " ('poor', 0.6043149828910828),\n",
       " ('good', 0.5791425704956055),\n",
       " ('horrendous', 0.5782389044761658),\n",
       " ('dissappointing', 0.5766562223434448),\n",
       " ('lame', 0.5732380747795105),\n",
       " ('shocking', 0.5702327489852905),\n",
       " ('awful', 0.5645982027053833),\n",
       " ('greatest', 0.5575398206710815)]"
      ]
     },
     "execution_count": 8,
     "metadata": {},
     "output_type": "execute_result"
    }
   ],
   "source": [
    "w1 = 'bad'\n",
    "model.wv.most_similar(positive=w1)"
   ]
  },
  {
   "cell_type": "code",
   "execution_count": 9,
   "id": "e9768c13",
   "metadata": {},
   "outputs": [
    {
     "data": {
      "text/plain": [
       "[('pleased', 0.8193362355232239),\n",
       " ('thrilled', 0.7861531376838684),\n",
       " ('satisfied', 0.7366096377372742),\n",
       " ('delighted', 0.7298440337181091),\n",
       " ('impressed', 0.7154264450073242),\n",
       " ('disappointed', 0.6838251352310181),\n",
       " ('anxious', 0.6757654547691345),\n",
       " ('unhappy', 0.6563605666160583),\n",
       " ('dissapointed', 0.6539214849472046),\n",
       " ('dissappointed', 0.6482178568840027)]"
      ]
     },
     "execution_count": 9,
     "metadata": {},
     "output_type": "execute_result"
    }
   ],
   "source": [
    "w1='happy'\n",
    "w2='excited'\n",
    "model.wv.most_similar(positive=[w1,w2])"
   ]
  },
  {
   "cell_type": "code",
   "execution_count": null,
   "id": "6f06fcc3",
   "metadata": {},
   "outputs": [],
   "source": []
  }
 ],
 "metadata": {
  "kernelspec": {
   "display_name": "Python 3 [3.10]",
   "language": "python",
   "name": "python3"
  },
  "language_info": {
   "codemirror_mode": {
    "name": "ipython",
    "version": 3
   },
   "file_extension": ".py",
   "mimetype": "text/x-python",
   "name": "python",
   "nbconvert_exporter": "python",
   "pygments_lexer": "ipython3",
   "version": "3.10.2"
  }
 },
 "nbformat": 4,
 "nbformat_minor": 5
}
